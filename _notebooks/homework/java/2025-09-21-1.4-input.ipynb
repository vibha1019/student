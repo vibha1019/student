{
 "cells": [
  {
   "cell_type": "raw",
   "metadata": {
    "vscode": {
     "languageId": "raw"
    }
   },
   "source": [
    "---\n",
    "layout: post\n",
    "toc: true\n",
    "title: Assignment Statements and Input\n",
    "permalink: /csa/unit_01/1_4/homework/\n",
    "author: Nikhil, Xavier, Spencer\n",
    "---"
   ]
  },
  {
   "cell_type": "markdown",
   "metadata": {},
   "source": [
    "In this lesson, we will explore **assignment statements** (how values are stored into variables) and **input** (how programs can receive information from the user). Both of these are fundamental to programming in Java and will help you understand how data flows in a program.\n",
    "\n",
    "We'll start by learning the concepts, then apply them in code examples, integrate them into a menu system, and finally reinforce understanding with an **interactive quiz game**."
   ]
  },
  {
   "cell_type": "markdown",
   "metadata": {},
   "source": [
    "### Learning Objectives\n",
    "- **LO 1.4.A**: Develop code for assignment statements with expressions and determine the value stored in variables.  \n",
    "- **LO 1.4.B**: Develop code to read input.  \n",
    "\n",
    "By the end of this lesson, you should be comfortable with assigning values to variables, updating them, and using the `Scanner` class to capture input from the keyboard."
   ]
  },
  {
   "cell_type": "markdown",
   "metadata": {},
   "source": [
    "### Essential Knowledge\n",
    "- **1.4.A.1**: Every variable must be assigned a value before it can be used. The type of the value must match the variable’s declared type. Reference types can be assigned an object or `null`.  \n",
    "- **1.4.A.2**: The assignment operator `=` is used to store the result of the right-hand expression into the left-hand variable.  \n",
    "- **1.4.A.3**: During execution, an expression is evaluated into a single value before assignment occurs.  \n",
    "- **1.4.B.1**: Input in Java is often handled by the `Scanner` class, which allows reading text, numbers, and other data from the keyboard.  "
   ]
  },
  {
   "cell_type": "markdown",
   "metadata": {},
   "source": [
    "### 1. Assignment Statements\n",
    "\n",
    "Variables in Java are like **containers** that hold values. First, you must declare them with a type (e.g., `int`, `String`), and then you can assign a value. If you reassign the variable later, the previous value is overwritten."
   ]
  },
  {
   "cell_type": "code",
   "execution_count": null,
   "metadata": {},
   "outputs": [],
   "source": [
    "// Example 1: Assigning different variables\n",
    "\n",
    "// Assign a String\n",
    "String name = \"Billy\";\n",
    "\n",
    "// Assign an Integer\n",
    "int age = 10;\n",
    "\n",
    "// Assign a Double\n",
    "double height = 165.34;\n",
    "\n",
    "// Assign a Char\n",
    "char firstLetter = 'B';\n",
    "\n",
    "// Assign a Boolean\n",
    "boolean isStudent = true;"
   ]
  },
  {
   "cell_type": "code",
   "execution_count": null,
   "metadata": {},
   "outputs": [],
   "source": [
    "// Example 2: Reassignment\n",
    "int x = 10;\n",
    "x = 20;   // the old value (10) is replaced by the new value (20)"
   ]
  },
  {
   "cell_type": "code",
   "execution_count": null,
   "metadata": {},
   "outputs": [],
   "source": [
    "// Example 3: Reference and null\n",
    "String name = null;        // variable declared but currently points to nothing\n",
    "name = \"Ahaan\";            // now it refers to a String object with value \"Ahaan\""
   ]
  },
  {
   "cell_type": "markdown",
   "metadata": {},
   "source": [
    "### 2. Input with Scanner\n",
    "\n",
    "So far, we’ve hardcoded values into variables. But often, we want programs to react to user input. Java provides the **`Scanner`** class for this purpose. With it, we can ask users for information and store their answers in variables."
   ]
  },
  {
   "cell_type": "code",
   "execution_count": null,
   "metadata": {},
   "outputs": [],
   "source": [
    "import java.util.Scanner;\n",
    "\n",
    "Scanner scanner = new Scanner(System.in);\n",
    "System.out.print(\"Enter your name: \");\n",
    "String name = scanner.nextLine();\n",
    "System.out.println(\"Hello, \" + name + \"!\");"
   ]
  },
  {
   "cell_type": "code",
   "execution_count": null,
   "metadata": {},
   "outputs": [],
   "source": [
    "System.out.print(\"Enter a number: \");\n",
    "int num = scanner.nextInt();\n",
    "System.out.println(\"You entered \" + num);"
   ]
  },
  {
   "cell_type": "markdown",
   "metadata": {},
   "source": [
    "### 3. Menu Integration (Menu.java)\n",
    "\n",
    "In larger projects, lessons or programs are often tied together with a **menu system**. This makes it easy for users to select which program to run. We’ve extended `Menu.java` to include our new `InputLesson`."
   ]
  },
  {
   "cell_type": "code",
   "execution_count": null,
   "metadata": {},
   "outputs": [],
   "source": [
    "MenuRow[] rows = new MenuRow[]{\n",
    "    new MenuRow(\"Exit\", () -> main(null)),\n",
    "    new MenuRow(\"Output Lesson\", () -> OutputLesson.main(null)),\n",
    "    new MenuRow(\"Input Lesson\", () -> InputLesson.main(null)),  // NEW LESSON\n",
    "    new MenuRow(\"Do Nothing\", () -> DoNothingByValue.main(null)),\n",
    "    new MenuRow(\"Swap if Hi-Low\", () -> IntByReference.main(null)),\n",
    "    new MenuRow(\"Matrix Reverse\", () -> Matrix.main(null)),\n",
    "    new MenuRow(\"Diverse Array\", () -> DiverseArray.main(null)),\n",
    "    new MenuRow(\"Random Squirrels\", () -> Number.main(null))\n",
    "};"
   ]
  },
  {
   "cell_type": "markdown",
   "metadata": {},
   "source": [
    "### 4. InputLesson.java\n",
    "\n",
    "Here is the **complete Java program** for our Input lesson. It demonstrates reading strings, integers, and doubles from the user. Notice how each type of data uses a different method (`nextLine`, `nextInt`, `nextDouble`)."
   ]
  },
  {
   "cell_type": "code",
   "execution_count": null,
   "metadata": {},
   "outputs": [],
   "source": [
    "package com.open.spring.hacks.methodsDataTypes;\n",
    "import java.util.Scanner;\n",
    "\n",
    "public class InputLesson {\n",
    "    public static void main(String[] args) {\n",
    "        System.out.println(\"=== Input Lesson ===\");\n",
    "\n",
    "        Scanner scanner = new Scanner(System.in);\n",
    "\n",
    "        // Example 1: String input\n",
    "        System.out.print(\"Enter your name: \");\n",
    "        String name = scanner.nextLine();\n",
    "        System.out.println(\"Hello, \" + name + \"!\");\n",
    "\n",
    "        // Example 2: Integer input\n",
    "        System.out.print(\"Enter your age: \");\n",
    "        int age = scanner.nextInt();\n",
    "        System.out.println(\"Next year you will be \" + (age + 1));\n",
    "\n",
    "        // Example 3: Double input\n",
    "        System.out.print(\"Enter a decimal number: \");\n",
    "        double d = scanner.nextDouble();\n",
    "        System.out.println(\"Half of that is \" + (d / 2));\n",
    "    }\n",
    "}"
   ]
  },
  {
   "cell_type": "markdown",
   "metadata": {},
   "source": [
    "### 5. Key Takeaways\n",
    "- Assignment (`=`) stores values into variables.  \n",
    "- Variables must be declared with a type before use.  \n",
    "- `null` means a reference variable points to no object.  \n",
    "- The `Scanner` class allows programs to read input from the keyboard.  \n",
    "- `Menu.java` shows how lessons can be integrated into a bigger program.  "
   ]
  },
  {
   "cell_type": "markdown",
   "metadata": {},
   "source": [
    "## Practice\n",
    "Let's check your understanding with a few multiple-choice questions.\n",
    "\n",
    "---\n",
    "\n",
    "**Q1. What is the value of `x` after this code?**\n",
    "```java\n",
    "int x = 4;\n",
    "x = x + 3;\n",
    "```\n",
    "- A. 4  \n",
    "- B. 7  \n",
    "- C. 3  \n",
    "- D. null  \n",
    "\n",
    "**Answer:** B  \n",
    "\n",
    "---\n",
    "\n",
    "**Q2. Which statement correctly declares and initializes a `String` variable?**\n",
    "- A. `String s = 5;`  \n",
    "- B. `String s = null;`  \n",
    "- C. `String s = \"Hello\";`  \n",
    "- D. Both B and C  \n",
    "\n",
    "**Answer:** D"
   ]
  },
  {
   "cell_type": "markdown",
   "metadata": {},
   "source": [
    "### 7. Hack & Blog Ideas\n",
    "- **Hack:** Modify `InputLesson` so it asks the user for three numbers and outputs their average.  \n",
    "- **Blog:** Write a short explanation of the difference between **assignment (`=`)** and **comparison (`==`)** in your own words.  \n",
    "- **Portfolio:** Add screenshots or a demo video showing your program running in `Menu.java`.  "
   ]
  },
  {
   "cell_type": "code",
   "execution_count": 2,
   "metadata": {},
   "outputs": [],
   "source": [
    "public class InputLesson {\n",
    "    public static void main(String[] args) {\n",
    "        System.out.println(\"=== Input Lesson ===\");\n",
    "\n",
    "        Scanner scanner = new Scanner(System.in);\n",
    "\n",
    "        // Example 1: String input\n",
    "        System.out.print(\"Enter your name: \");\n",
    "        String name = scanner.nextLine();\n",
    "        System.out.println(\"Hello, \" + name + \"!\");\n",
    "\n",
    "        // Example 2: Integer input\n",
    "        System.out.print(\"Enter your age: \");\n",
    "        int age = scanner.nextInt();\n",
    "        System.out.println(\"Next year you will be \" + (age + 1));\n",
    "\n",
    "        // Example 3: Double input\n",
    "        System.out.print(\"Enter a decimal number: \");\n",
    "        double d = scanner.nextDouble();\n",
    "        System.out.println(\"Half of that is \" + (d / 2));\n",
    "\n",
    "        // Hack: Ask for 3 numbers and find the average\n",
    "        System.out.print(\"Enter first number: \");\n",
    "        double num1 = scanner.nextDouble();\n",
    "\n",
    "        System.out.print(\"Enter second number: \");\n",
    "        double num2 = scanner.nextDouble();\n",
    "\n",
    "        System.out.print(\"Enter third number: \");\n",
    "        double num3 = scanner.nextDouble();\n",
    "\n",
    "        double average = (num1 + num2 + num3) / 3.0;\n",
    "        System.out.println(\"The average is: \" + average);\n",
    "\n",
    "        scanner.close();\n",
    "    }\n",
    "}\n"
   ]
  },
  {
   "cell_type": "markdown",
   "metadata": {},
   "source": [
    "In Java, = is the assignment operator. It is used to store a value in a variable. For example, int x = 5; means the variable x is assigned the value 5.\n",
    "On the other hand, == is the comparison operator. It is used to check whether two values are equal. For example, x == 5 checks if the value stored in x is equal to 5.\n",
    "In short: = sets a value, while == compares values."
   ]
  },
  {
   "cell_type": "markdown",
   "metadata": {},
   "source": [
    "### 8. Interactive Quiz Game\n",
    "Finally, here’s a fun quiz game built in **JavaScript + HTML** to test your knowledge of assignment statements, input, and how they connect to the lesson. Play through it and check your understanding!\n"
   ]
  },
  {
   "cell_type": "markdown",
   "metadata": {},
   "source": [
    "<a href=\"{{site.baseurl}}/unitgame/\">1.3 and 1.4 Game</a>"
   ]
  }
 ],
 "metadata": {
  "kernelspec": {
   "display_name": "Java",
   "language": "java",
   "name": "java"
  },
  "language_info": {
   "codemirror_mode": "java",
   "file_extension": ".jshell",
   "mimetype": "text/x-java-source",
   "name": "java",
   "pygments_lexer": "java",
   "version": "17.0.16+0"
  }
 },
 "nbformat": 4,
 "nbformat_minor": 2
}
