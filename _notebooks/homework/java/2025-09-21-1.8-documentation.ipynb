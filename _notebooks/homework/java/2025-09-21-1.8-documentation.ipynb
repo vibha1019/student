{
 "cells": [
  {
   "cell_type": "raw",
   "id": "d886c8cb",
   "metadata": {
    "vscode": {
     "languageId": "raw"
    }
   },
   "source": [
    "---\n",
    "title: Documentation with Comments\n",
    "comments: true\n",
    "layout: post\n",
    "permalink: /csa/unit_01/1_8/homework/\n",
    "description: Variables and Data Types\n",
    "author: Eshika Pallapotu, Nithika Vivek, Saanvi Dogra\n",
    "---"
   ]
  },
  {
   "cell_type": "markdown",
   "id": "e2d94e01",
   "metadata": {
    "vscode": {
     "languageId": "plaintext"
    }
   },
   "source": [
    "# CSA Unit 1.8: Documentation with Comments\\n\",\n",
    "\n",
    "## Lesson Plan\n",
    "\n",
    "**Learning Objectives:**\n",
    "- Understand the purpose and importance of code documentation\n",
    "- Master Javadoc comment syntax and structure\n",
    "- Learn to write effective preconditions and postconditions\n",
    "- Apply documentation best practices to classes and methods\n",
    "\n",
    "\n",
    "**AP Exam Focus:** Required for FRQ responses, demonstrates professional programming practices\n",
    "\n"
   ]
  },
  {
   "cell_type": "markdown",
   "id": "c3ad035b",
   "metadata": {},
   "source": [
    "We need 2 volunteers to come up to play a game!"
   ]
  },
  {
   "cell_type": "markdown",
   "id": "be88be74",
   "metadata": {
    "vscode": {
     "languageId": "plaintext"
    }
   },
   "source": [
    "## Part 1: Why Documentation Matters\n",
    "\n",
    "Documentation serves multiple audiences:\n",
    "- **Other developers:** How do I use this method? What parameters does it expect?\n",
    "- **Maintainers:** Why was this implemented this way? What are the edge cases?\n",
    "- **Testers:** What should this method do in different scenarios?\n",
    "- **Your future self:** Will you remember your logic in 3 months?\n",
    "\n",
    "**Think of documentation as the user manual for your code.**\n",
    "\n",
    "### Types of Java Comments:\n",
    "1. **Single-line comments:** `//` - Quick notes and explanations\n",
    "2. **Multi-line comments:** `/* */` - Longer explanations\n",
    "3. **Javadoc comments:** `/** */` - API documentation (our focus today!)\n",
    "\n",
    "---"
   ]
  },
  {
   "cell_type": "markdown",
   "id": "697c0a1a",
   "metadata": {
    "vscode": {
     "languageId": "plaintext"
    }
   },
   "source": [
    "##  Part 2: Javadoc Comment Structure\n",
    "\n",
    "Javadoc uses special tags to create comprehensive documentation:\n",
    "- `@param` - Describes a parameter\n",
    "- `@return` - Describes the return value\n",
    "- `@throws` - Describes exceptions that might be thrown\n",
    "\n",
    "**Basic Template:**\n",
    "```java\n",
    "/**\n",
    " * Brief description of what the method does.\n",
    " * \n",
    " * More detailed explanation if needed, including algorithm\n",
    " * information, usage notes, or important behaviors.\n",
    " *\n",
    " * @param paramName description of the parameter\n",
    " * @return description of what is returned\n",
    " */\n",
    "```\n",
    "\n",
    "---"
   ]
  },
  {
   "cell_type": "code",
   "execution_count": null,
   "id": "ac434458",
   "metadata": {
    "vscode": {
     "languageId": "java"
    }
   },
   "outputs": [
    {
     "name": "stdout",
     "output_type": "stream",
     "text": [
      "Final Grade: 89.1\n"
     ]
    }
   ],
   "source": [
    "/**\n",
    " * Calculates the final grade for a student based on weighted categories.\n",
    " * The grade is computed using the formula: \n",
    " * (homework * 0.3) + (tests * 0.5) + (participation * 0.2)\n",
    " *\n",
    " * @param homework the average homework score (0.0 to 100.0)\n",
    " * @param tests the average test score (0.0 to 100.0)  \n",
    " * @param participation the participation score (0.0 to 100.0)\n",
    " * @return the weighted final grade as a percentage (0.0 to 100.0)\n",
    " */\n",
    "public double calculateFinalGrade(double homework, double tests, double participation) {\n",
    "    return homework * 0.3 + tests * 0.5 + participation * 0.2;\n",
    "}\n",
    "\n",
    "// Test the method\n",
    "System.out.println(\"Final Grade: \" + calculateFinalGrade(85.0, 92.0, 88.0));"
   ]
  },
  {
   "cell_type": "markdown",
   "id": "f8048d2a",
   "metadata": {},
   "source": [
    "## Part 3: Preconditions and Postconditions\n",
    "\n",
    "**Preconditions:** What must be true BEFORE the method is called\n",
    "**Postconditions:** What will be true AFTER the method completes successfully\n",
    "\n",
    "These create a **contract** between the method and its callers.\n",
    "\n",
    "### Why They Matter:\n",
    "- Clarify responsibilities\n",
    "- Define expected behavior\n",
    "- Help identify bugs\n",
    "- Essential for AP FRQs!\n",
    "\n",
    "---"
   ]
  },
  {
   "cell_type": "code",
   "execution_count": 8,
   "id": "7486d57e",
   "metadata": {
    "vscode": {
     "languageId": "java"
    }
   },
   "outputs": [
    {
     "name": "stdout",
     "output_type": "stream",
     "text": [
      "Transaction: Withdraw $100.0\n",
      "New balance: $400.0\n"
     ]
    },
    {
     "data": {
      "text/plain": [
       "true"
      ]
     },
     "execution_count": 8,
     "metadata": {},
     "output_type": "execute_result"
    }
   ],
   "source": [
    "/**\n",
    " * Withdraws money from the bank account.\n",
    " * \n",
    " * Preconditions: \n",
    " * - amount must be positive\n",
    " * - amount must not exceed current balance\n",
    " * - account must not be frozen\n",
    " * \n",
    " * Postconditions:\n",
    " * - balance is reduced by the withdrawal amount\n",
    " * - transaction is recorded in account history\n",
    " * - returns true if withdrawal successful\n",
    " *\n",
    " * @param amount the amount to withdraw (must be positive)\n",
    " * @return true if withdrawal successful, false otherwise\n",
    " */\n",
    "\n",
    "public boolean withdraw(double amount) {\n",
    "    // Local variable definitions\n",
    "    double balance = 500.0;      // example current balance\n",
    "    boolean isFrozen = false;    // example account state\n",
    "\n",
    "    // Preconditions: amount must be positive, not exceed balance, and account not frozen\n",
    "    if (amount <= 0 || amount > balance || isFrozen) {\n",
    "        return false;  // Precondition not met\n",
    "    }\n",
    "\n",
    "    // Perform withdrawal\n",
    "    balance -= amount;\n",
    "\n",
    "    // Record transaction (for now, just print it)\n",
    "    System.out.println(\"Transaction: Withdraw $\" + amount);\n",
    "    System.out.println(\"New balance: $\" + balance);\n",
    "\n",
    "    // Postcondition: balance reduced, transaction recorded\n",
    "    return true;\n",
    "}\n",
    "withdraw(100.0);"
   ]
  },
  {
   "cell_type": "markdown",
   "id": "c7069af2",
   "metadata": {},
   "source": [
    "## Part 4: Class-Level Documentation\n",
    "\n",
    "Classes need documentation explaining their overall purpose and usage.\n",
    "\n",
    "**Key Elements:**\n",
    "- Overall purpose of the class\n",
    "- Key responsibilities\n",
    "- Usage examples\n",
    "- Important design decisions\n",
    "- Author and version information\n",
    "\n",
    "---"
   ]
  },
  {
   "cell_type": "code",
   "execution_count": 15,
   "id": "a0d8c9d2",
   "metadata": {
    "vscode": {
     "languageId": "java"
    }
   },
   "outputs": [
    {
     "name": "stdout",
     "output_type": "stream",
     "text": [
      "95.5\n"
     ]
    }
   ],
   "source": [
    "/**\n",
    " * Represents a student in the school management system.\n",
    " * \n",
    " * This class maintains student information including personal details,\n",
    " * academic records, and enrollment status. It provides methods for\n",
    " * updating grades, managing course enrollment, and generating reports.\n",
    " * \n",
    " * Example usage:\n",
    " * <pre>\n",
    " * Student alice = new Student(\"Alice Johnson\", 12);\n",
    " * alice.enrollInCourse(\"AP Computer Science\");\n",
    " * alice.updateGrade(\"Math\", 95.5);\n",
    " * System.out.println(alice.getGPA());\n",
    " * </pre>\n",
    " *\n",
    " * @author Your Name\n",
    " * @version 1.0\n",
    " * @since 2024-01-15\n",
    " */\n",
    "public class Student {\n",
    "    private String name;\n",
    "    private int gradeLevel;\n",
    "    private ArrayList<String> courses;\n",
    "    private HashMap<String, Double> grades;\n",
    "    \n",
    "    // Constructor fix\n",
    "    public Student(String name, int gradeLevel) {\n",
    "        this.name = name;\n",
    "        this.gradeLevel = gradeLevel;\n",
    "        this.courses = new ArrayList<>();\n",
    "        this.grades = new HashMap<>();\n",
    "    }\n",
    "\n",
    "    // Example methods\n",
    "    public void enrollInCourse(String course) {\n",
    "        courses.add(course);\n",
    "    }\n",
    "\n",
    "    public void updateGrade(String course, double grade) {\n",
    "        grades.put(course, grade);\n",
    "    }\n",
    "\n",
    "    public double getGPA() {\n",
    "        if (grades.isEmpty()) return 0.0;\n",
    "        double sum = 0;\n",
    "        for (double g : grades.values()) {\n",
    "            sum += g;\n",
    "        }\n",
    "        return sum / grades.size();\n",
    "    }\n",
    "}\n",
    "// Test the Student class\n",
    "Student alice = new Student(\"Alice Johnson\", 12);\n",
    "alice.enrollInCourse(\"AP Computer Science\");\n",
    "alice.updateGrade(\"Math\", 95.5);\n",
    "System.out.println(alice.getGPA());"
   ]
  },
  {
   "cell_type": "markdown",
   "id": "bdab0599",
   "metadata": {},
   "source": [
    "## Part 5: Documentation Best Practices\n",
    "\n",
    "### DO:\n",
    "1. **Be specific and actionable** - \"sets the student's GPA to the specified value, rounded to one decimal place\"\n",
    "2. **Include examples for complex methods**\n",
    "3. **Document assumptions and limitations**\n",
    "4. **Update docs when code changes**\n",
    "5. **Focus on WHY, not just WHAT**\n",
    "\n",
    "### DON'T:\n",
    "1. **Over-document obvious code** - Simple getters/setters don't need documentation\n",
    "2. **Use vague descriptions** - \"processes the data\" tells us nothing\n",
    "3. **Forget edge cases** - What happens with null? Empty arrays?\n",
    "4. **Let documentation become outdated**\n",
    "\n",
    "---"
   ]
  },
  {
   "cell_type": "code",
   "execution_count": 17,
   "id": "9de83950",
   "metadata": {
    "vscode": {
     "languageId": "java"
    }
   },
   "outputs": [
    {
     "ename": "CompilationException",
     "evalue": "",
     "output_type": "error",
     "traceback": [
      "\u001b[1m\u001b[30m|   \u001b[1m\u001b[30m    \u001b[0m\u001b[1m\u001b[30m\u001b[41mthis\u001b[0m\u001b[1m\u001b[30m.name = normalizeName(name.trim());\u001b[0m",
      "\u001b[1m\u001b[31mnon-static variable this cannot be referenced from a static context\u001b[0m",
      "",
      "\u001b[1m\u001b[30m|   \u001b[1m\u001b[30m    \u001b[0m\u001b[1m\u001b[30m\u001b[41mthis.name\u001b[0m\u001b[1m\u001b[30m = normalizeName(name.trim());\u001b[0m",
      "\u001b[1m\u001b[31mcannot find symbol\u001b[0m",
      "\u001b[1m\u001b[31m  symbol: variable name\u001b[0m",
      "",
      "\u001b[1m\u001b[30m|   \u001b[1m\u001b[30m    this.name = \u001b[0m\u001b[1m\u001b[30m\u001b[41mnormalizeName\u001b[0m\u001b[1m\u001b[30m(name.trim());\u001b[0m",
      "\u001b[1m\u001b[31mcannot find symbol\u001b[0m",
      "\u001b[1m\u001b[31m  symbol:   method normalizeName(java.lang.String)\u001b[0m",
      ""
     ]
    }
   ],
   "source": [
    "// BAD: Over-documentation of obvious code\n",
    "/**\n",
    " * Gets the name.\n",
    " * @return the name\n",
    " */\n",
    "public String getName() {\n",
    "    return name;\n",
    "}\n",
    "\n",
    "// GOOD: No documentation needed for simple accessor\n",
    "public String getName() { \n",
    "    return name; \n",
    "}\n",
    "\n",
    "// GOOD: Document complex behavior\n",
    "/**\n",
    " * Updates the student's name with validation and normalization.\n",
    " * \n",
    " * Trims whitespace, converts to proper case, and validates that\n",
    " * the name contains only letters, spaces, hyphens, and apostrophes.\n",
    " *\n",
    " * @param name the new name (will be normalized)\n",
    " * @throws IllegalArgumentException if name is null, empty, or contains invalid characters\n",
    " */\n",
    "public void setNameWithValidation(String name) {\n",
    "    if (name == null || name.trim().isEmpty()) {\n",
    "        throw new IllegalArgumentException(\"Name cannot be null or empty\");\n",
    "    }\n",
    "    this.name = normalizeName(name.trim());\n",
    "}"
   ]
  },
  {
   "cell_type": "markdown",
   "id": "b364f26d",
   "metadata": {},
   "source": [
    "## Part 6: AP Exam Connections\n",
    "\n",
    "### Multiple Choice Tips:\n",
    "- Know the difference between `//`, `/* */`, and `/** */`\n",
    "- Understand when documentation is most helpful\n",
    "- Recognize proper @param and @return usage\n",
    "\n",
    "### FRQ Requirements:\n",
    "- **Always document complex methods** - Shows programming maturity\n",
    "- **Explain your logic** - Helps scorers understand your intent\n",
    "- **Document non-obvious design decisions**\n",
    "- **Specify parameter constraints**\n",
    "\n",
    "### Quick Documentation Checklist:\n",
    "- ✓ Complex methods have clear purpose descriptions\n",
    "- ✓ Parameter constraints are specified\n",
    "- ✓ Return values are explained\n",
    "- ✓ Edge cases and error conditions are documented\n",
    "- ✓ Examples provided for non-obvious usage\n",
    "\n",
    "---"
   ]
  },
  {
   "cell_type": "markdown",
   "id": "2b44f1d1",
   "metadata": {},
   "source": [
    "##  Lesson Hack #1: Fix the Documentation\n",
    "\n",
    "**Task:** The following code has poor documentation. Rewrite it with proper Javadoc comments including preconditions and postconditions.\n",
    "\n",
    "```java\n",
    "// Does stuff with numbers\n",
    "public int doSomething(int[] nums) {\n",
    "    int result = 0;\n",
    "    for (int i = 0; i < nums.length; i++) {\n",
    "        if (nums[i] > 0 && nums[i] % 2 == 0) {\n",
    "            result += nums[i];\n",
    "        }\n",
    "    }\n",
    "    return result;\n",
    "}\n",
    "```\n",
    "\n",
    "**Your task:** Write proper Javadoc documentation for this method in the code cell below.\n",
    "\n",
    "---"
   ]
  },
  {
   "cell_type": "code",
   "execution_count": null,
   "id": "347c940e",
   "metadata": {
    "vscode": {
     "languageId": "java"
    }
   },
   "outputs": [],
   "source": [
    "/**\n",
    " * Calculates the sum of all positive even integers in the given array.\n",
    " *\n",
    " * <p>This method iterates through the input array and adds up all elements \n",
    " * that are both greater than zero and divisible by two. Negative numbers \n",
    " * and odd numbers are ignored.</p>\n",
    " *\n",
    " * @param nums an array of integers to be processed\n",
    " * @return the sum of all positive even integers in the array;\n",
    " *         returns 0 if no such numbers are found or if the array is empty\n",
    " *\n",
    " * @precondition {@code nums} is not {@code null}\n",
    " * @postcondition the returned value equals the sum of all {@code nums[i]} \n",
    " *                where {@code nums[i] > 0} and {@code nums[i] % 2 == 0}\n",
    " */\n",
    "public int doSomething(int[] nums) {\n",
    "    int result = 0;\n",
    "    for (int i = 0; i < nums.length; i++) {\n",
    "        if (nums[i] > 0 && nums[i] % 2 == 0) {\n",
    "            result += nums[i];\n",
    "        }\n",
    "    }\n",
    "    return result;\n",
    "}\n",
    "\n"
   ]
  },
  {
   "cell_type": "markdown",
   "id": "84ece20e",
   "metadata": {},
   "source": [
    "## Popcorn Hack #2: Write Class Documentation\n",
    "\n",
    "**Your Mission:** Add Javadoc comments to document this GradeBook class!\n",
    "\n",
    "**What to include:**\n",
    "- What does this class do? (purpose)\n",
    "- What are the main features? (key methods)\n",
    "- How would someone use it? (example)\n",
    "- Tags: @author, @version, @since\n",
    "```java\n",
    "// TODO: Add your class-level Javadoc here!\n",
    "// Hint: Start with /** and end with */\n",
    "\n",
    "public class GradeBook {\n",
    "    private HashMap<String, Double> assignments;\n",
    "    private HashMap<String, Double> categoryWeights;\n",
    "    private double extraCredit;\n",
    "    \n",
    "    // TODO: Document each method too!\n",
    "    public void addAssignment(String category, String name, double score) { }\n",
    "    \n",
    "    public void setCategoryWeight(String category, double weight) { }\n",
    "    \n",
    "    public double calculateFinalGrade() { }\n",
    "    \n",
    "    public String generateReport() { }\n",
    "}"
   ]
  },
  {
   "cell_type": "code",
   "execution_count": 1,
   "id": "83b4e184",
   "metadata": {
    "vscode": {
     "languageId": "java"
    }
   },
   "outputs": [],
   "source": [
    "/**\n",
    " * The {@code GradeBook} class manages and calculates student grades based on \n",
    " * assignments, weighted categories, and optional extra credit.\n",
    " * <p>\n",
    " * This class allows users to:\n",
    " * <ul>\n",
    " *   <li>Add assignments and their corresponding scores by category.</li>\n",
    " *   <li>Set category weights (e.g., Tests = 0.5, Homework = 0.3).</li>\n",
    " *   <li>Calculate a final weighted grade based on all entered data.</li>\n",
    " *   <li>Generate a formatted report summarizing all grades and weights.</li>\n",
    " * </ul>\n",
    " * </p>\n",
    " * \n",
    " * <p><b>Example usage:</b></p>\n",
    " * <pre>{@code\n",
    " * GradeBook gb = new GradeBook();\n",
    " * gb.setCategoryWeight(\"Homework\", 0.4);\n",
    " * gb.setCategoryWeight(\"Tests\", 0.6);\n",
    " * gb.addAssignment(\"Homework\", \"HW1\", 95);\n",
    " * gb.addAssignment(\"Tests\", \"Midterm\", 88);\n",
    " * double finalGrade = gb.calculateFinalGrade();\n",
    " * System.out.println(gb.generateReport());\n",
    " * }</pre>\n",
    " *\n",
    " * @author Vibha\n",
    " * @version 1.0\n",
    " * @since 2025-10-10\n",
    " */\n",
    "public class GradeBook {\n",
    "    private HashMap<String, Double> assignments;\n",
    "    private HashMap<String, Double> categoryWeights;\n",
    "    private double extraCredit;\n",
    "\n",
    "    /**\n",
    "     * Adds an assignment with the specified category, name, and score.\n",
    "     *\n",
    "     * @param category the category of the assignment (e.g., \"Homework\", \"Tests\")\n",
    "     * @param name the name or title of the assignment\n",
    "     * @param score the numeric score earned for this assignment\n",
    "     * @precondition {@code category != null && name != null && score >= 0}\n",
    "     * @postcondition the assignment is added to the {@code assignments} map\n",
    "     */\n",
    "    public void addAssignment(String category, String name, double score) { }\n",
    "\n",
    "    /**\n",
    "     * Sets the weight for a given grading category.\n",
    "     *\n",
    "     * @param category the name of the category\n",
    "     * @param weight the weight for this category, typically between 0 and 1\n",
    "     * @precondition {@code category != null && 0 <= weight <= 1}\n",
    "     * @postcondition {@code categoryWeights} is updated with the new weight\n",
    "     */\n",
    "    public void setCategoryWeight(String category, double weight) { }\n",
    "\n",
    "    /**\n",
    "     * Calculates the student's final grade using all assignments and category weights.\n",
    "     *\n",
    "     * @return the weighted final grade as a {@code double}\n",
    "     * @precondition categories and assignments have been added\n",
    "     * @postcondition returns a value between 0 and 100 (or higher with extra credit)\n",
    "     */\n",
    "    public double calculateFinalGrade() { return 0.0; }\n",
    "\n",
    "    /**\n",
    "     * Generates a formatted report summarizing the student's performance.\n",
    "     *\n",
    "     * @return a {@code String} report including assignments, scores, and final grade\n",
    "     * @precondition assignments and weights are initialized\n",
    "     * @postcondition returns a human-readable summary of the GradeBook\n",
    "     */\n",
    "    public String generateReport() { return \"\"; }\n",
    "}\n"
   ]
  },
  {
   "cell_type": "markdown",
   "id": "2e24f3b5",
   "metadata": {},
   "source": [
    "Check your answer below!"
   ]
  },
  {
   "cell_type": "code",
   "execution_count": null,
   "id": "2358b2f5",
   "metadata": {
    "vscode": {
     "languageId": "java"
    }
   },
   "outputs": [],
   "source": [
    "/**\n",
    " * Manages student grades and calculates final grades based on weighted categories.\n",
    " * \n",
    " * This class allows teachers to track assignments across different categories\n",
    " * (like homework, tests, projects) and calculate final grades using custom weights.\n",
    " * \n",
    " * Key Features:\n",
    " * - Store assignments by category\n",
    " * - Apply custom weights to each category\n",
    " * - Track extra credit points\n",
    " * - Generate grade reports\n",
    " * \n",
    " * Usage Example:\n",
    " * GradeBook myGrades = new GradeBook();\n",
    " * myGrades.setCategoryWeight(\"Homework\", 0.30);\n",
    " * myGrades.setCategoryWeight(\"Tests\", 0.70);\n",
    " * myGrades.addAssignment(\"Homework\", \"HW1\", 95.0);\n",
    " * double finalGrade = myGrades.calculateFinalGrade();\n",
    " * \n",
    " * @author Your Name\n",
    " * @version 1.0\n",
    " * @since 2025-10-06\n",
    " */\n",
    "public class GradeBook {\n",
    "    private HashMap<String, Double> assignments;\n",
    "    private HashMap<String, Double> categoryWeights;\n",
    "    private double extraCredit;\n",
    "    \n",
    "    /**\n",
    "     * Adds an assignment score to a specific category.\n",
    "     * \n",
    "     * @param category the category name (e.g., \"Homework\", \"Tests\")\n",
    "     * @param name the assignment name\n",
    "     * @param score the score earned (0-100)\n",
    "     */\n",
    "    public void addAssignment(String category, String name, double score) { }\n",
    "    \n",
    "    /**\n",
    "     * Sets the weight for a grade category.\n",
    "     * \n",
    "     * @param category the category name\n",
    "     * @param weight the weight as a decimal (e.g., 0.30 for 30%)\n",
    "     */\n",
    "    public void setCategoryWeight(String category, double weight) { }\n",
    "    \n",
    "    /**\n",
    "     * Calculates the final weighted grade including extra credit.\n",
    "     * \n",
    "     * @return the final grade as a percentage\n",
    "     */\n",
    "    public double calculateFinalGrade() { }\n",
    "    \n",
    "    /**\n",
    "     * Generates a formatted report of all grades and categories.\n",
    "     * \n",
    "     * @return a String containing the grade report\n",
    "     */\n",
    "    public String generateReport() { }\n",
    "}"
   ]
  },
  {
   "cell_type": "markdown",
   "id": "9461cca7",
   "metadata": {},
   "source": [
    "##  Homework Assignment\n",
    "\n",
    "### Part 1: Documentation Analysis \n",
    "Submission: https://docs.google.com/forms/d/e/1FAIpQLSepOCmW6KeE7jw4f80JO4Kad5YWeDUHKTpnNxnCPTtj9WEAsw/viewform?usp=header \n",
    "Rewrite the poorly written code. Write them with proper Javadoc comments.\n",
    "1. The original code:"
   ]
  },
  {
   "cell_type": "code",
   "execution_count": 3,
   "id": "ef9efa33",
   "metadata": {
    "vscode": {
     "languageId": "java"
    }
   },
   "outputs": [
    {
     "name": "stdout",
     "output_type": "stream",
     "text": [
      "ans is 15\n"
     ]
    }
   ],
   "source": [
    "/**\n",
    " * The {@code Stuff} class demonstrates a simple example of adding two integers \n",
    " * and printing the result to the console.\n",
    " * <p>\n",
    " * This class contains a {@code main} method to execute the program \n",
    " * and a helper method {@code add} that performs the addition operation.\n",
    " * </p>\n",
    " *\n",
    " * <p><b>Example output:</b></p>\n",
    " * <pre>\n",
    " * ans is 15\n",
    " * </pre>\n",
    " *\n",
    " * @author Vibha\n",
    " * @version 1.0\n",
    " * @since 2025-10-10\n",
    " */\n",
    "public class Stuff {\n",
    "\n",
    "    /**\n",
    "     * The entry point of the program. \n",
    "     * Initializes two integers, adds them using the {@code add} method, \n",
    "     * and prints the result to the console.\n",
    "     *\n",
    "     * @param args command-line arguments (not used)\n",
    "     * @precondition none\n",
    "     * @postcondition prints the sum of {@code x} and {@code y} to the console\n",
    "     */\n",
    "    public static void main(String[] args) {\n",
    "        int x = 5;\n",
    "        int y = 10;\n",
    "        int z = add(x, y);\n",
    "        System.out.println(\"ans is \" + z);\n",
    "    }\n",
    "\n",
    "    /**\n",
    "     * Adds two integers and returns their sum.\n",
    "     *\n",
    "     * @param a the first integer\n",
    "     * @param b the second integer\n",
    "     * @return the sum of {@code a} and {@code b}\n",
    "     * @precondition none\n",
    "     * @postcondition returns the correct sum of the two integers\n",
    "     */\n",
    "    static int add(int a, int b) {\n",
    "        return a + b;\n",
    "    }\n",
    "}\n",
    "\n",
    "Stuff.main(null);"
   ]
  },
  {
   "cell_type": "markdown",
   "id": "cace0026",
   "metadata": {},
   "source": [
    "\n",
    "Submit:\n",
    "\n",
    "2. Your improved version\n",
    "3. A brief explanation of what you improved\n",
    "\n",
    "### Part 2: \n",
    "Problem 1: Document a Complex Method\n",
    "Write complete Javadoc documentation for this method:\n",
    "\n",
    "public boolean enrollStudent(String studentId, String courseCode, int semester) {\n",
    "    Student student = findStudentById(studentId);\n",
    "    if (student == null) return false;\n",
    "\n",
    "    Course course = findCourseByCode(courseCode);\n",
    "    if (course == null) return false;\n",
    "\n",
    "    if (course.isFull()) return false;\n",
    "    if (student.hasScheduleConflict(course)) return false;\n",
    "    if (!student.hasPrerequisites(course)) return false;\n",
    "    if (student.getCreditHours() + course.getCreditHours() > 18) return false;\n",
    "\n",
    "    student.addCourse(course);\n",
    "    course.addStudent(student);\n",
    "    recordEnrollmentTransaction(studentId, courseCode, semester);\n",
    "    return true;\n",
    "}\n",
    "\n",
    "\n",
    "### Part 3: Reflection Questions \n",
    "1. Why is documentation more important in team projects than solo projects?\n",
    "2. Give an example of when a method SHOULD be documented and when it SHOULD NOT.\n",
    "\n",
    "**Submit:** A Jupyter notebook or Java file with all three parts completed.\n",
    "\n",
    "---"
   ]
  },
  {
   "cell_type": "markdown",
   "id": "eaffe468",
   "metadata": {},
   "source": [
    "### Part 2: \n"
   ]
  },
  {
   "cell_type": "code",
   "execution_count": 7,
   "id": "71e721e3",
   "metadata": {
    "vscode": {
     "languageId": "java"
    }
   },
   "outputs": [],
   "source": [
    "/**\n",
    " * Attempts to enroll a student in a specified course for a given semester.\n",
    " * <p>\n",
    " * This method checks several enrollment conditions before adding the student \n",
    " * to the course roster:\n",
    " * <ul>\n",
    " *   <li>Verifies that both the student and course exist.</li>\n",
    " *   <li>Ensures the course is not full.</li>\n",
    " *   <li>Checks for schedule conflicts.</li>\n",
    " *   <li>Confirms all prerequisite courses have been completed.</li>\n",
    " *   <li>Prevents the student from exceeding 18 total credit hours.</li>\n",
    " * </ul>\n",
    " * If all conditions are met, the student is enrolled, the course record is updated, \n",
    " * and an enrollment transaction is recorded.\n",
    " * </p>\n",
    " *\n",
    " * @param studentId the unique identifier for the student attempting to enroll\n",
    " * @param courseCode the unique code representing the course to enroll in\n",
    " * @param semester the semester number (e.g., 1 for fall, 2 for spring)\n",
    " * @return {@code true} if the student was successfully enrolled; \n",
    " *         {@code false} if any condition prevented enrollment\n",
    " *\n",
    " * @precondition both {@code studentId} and {@code courseCode} must refer to valid records\n",
    " * @postcondition if successful, the student and course records are updated to reflect enrollment\n",
    " */\n",
    "public boolean enrollStudent(String studentId, String courseCode, int semester) {\n",
    "    Student student = findStudentById(studentId);\n",
    "    if (student == null) return false;\n",
    "\n",
    "    Course course = findCourseByCode(courseCode);\n",
    "    if (course == null) return false;\n",
    "\n",
    "    if (course.isFull()) return false;\n",
    "    if (student.hasScheduleConflict(course)) return false;\n",
    "    if (!student.hasPrerequisites(course)) return false;\n",
    "    if (student.getCreditHours() + course.getCreditHours() > 18) return false;\n",
    "\n",
    "    student.addCourse(course);\n",
    "    course.addStudent(student);\n",
    "    recordEnrollmentTransaction(studentId, courseCode, semester);\n",
    "    return true;\n",
    "}\n",
    "\n"
   ]
  },
  {
   "cell_type": "markdown",
   "id": "dfe8a640",
   "metadata": {},
   "source": [
    "### Part 3: \n",
    "\n",
    "### 1. Why is documentation more important in team projects than solo projects?\n",
    "\n",
    "In team projects, **documentation ensures clarity and consistency** across developers. Team members often work on different parts of the same codebase, so clear Javadoc helps others understand the purpose, parameters, and logic of your methods without needing to ask or read through the entire implementation.  \n",
    "It also helps new team members onboard faster and prevents bugs caused by misunderstandings of how methods are supposed to behave.\n",
    "\n",
    "In solo projects, you might remember your own logic temporarily — but in a team, **good documentation is the shared memory of the project.**\n",
    "\n",
    "### 2. Give an example of when a method SHOULD be documented and when it SHOULD NOT.\n",
    " **Should be documented:**  \n",
    "A complex method like `enrollStudent(...)` that performs multiple checks, modifies data, and interacts with several classes. Documentation explains the logic and requirements clearly.\n",
    "\n",
    "**Should not be documented:**  \n",
    "A simple private helper method like `incrementCounter()` that adds 1 to a variable. If its purpose is self-explanatory from its name and code, excessive documentation adds clutter without value.\n"
   ]
  },
  {
   "cell_type": "markdown",
   "id": "1b063ed3",
   "metadata": {},
   "source": [
    "##  Key Takeaways\n",
    "\n",
    "1. **Documentation is communication** - Write for others (and your future self)\n",
    "2. **Javadoc format matters** - Use `/** */` with proper tags\n",
    "3. **Preconditions and postconditions create contracts** - Essential for reliable code\n",
    "4. **Balance is key** - Don't over-document obvious code, but thoroughly document complex logic\n",
    "5. **Keep it updated** - Outdated documentation is worse than no documentation\n",
    "6. **AP Exam success** - Good documentation demonstrates programming maturity on FRQs\n",
    "\n",
    "### Remember:\n",
    "> \"Code tells you HOW, documentation tells you WHY\"\n",
    "\n",
    "**The collaborative mindset:** Write documentation that you would want to find when using someone else's code. Be specific, be helpful, and anticipate questions.\n",
    "\n",
    "---\n",
    "\n",
    "##  Additional Resources\n",
    "- [Oracle Java Documentation Guidelines](https://www.oracle.com/technical-resources/articles/java/javadoc-tool.html)\n",
    "- [AP Computer Science A Course Description](https://apcentral.collegeboard.org/)\n",
    "- Practice writing documentation for existing code projects!"
   ]
  },
  {
   "cell_type": "markdown",
   "id": "11f14ac0",
   "metadata": {},
   "source": [
    "## Challenge Problems (Extra Credit)\n",
    "\n",
    "### Challenge 1: Document a Recursive Method\n",
    "Write complete documentation for a recursive method including base case, recursive case, and complexity analysis.\n",
    "\n",
    "### Challenge 2: Team Documentation Standard\n",
    "Create a documentation style guide for a team project. Include:\n",
    "- When to document (and when not to)\n",
    "- Required tags for different method types\n",
    "- Example templates\n",
    "- Common mistakes to avoid\n",
    "\n",
    "### Challenge 3: Documentation Detective\n",
    "Find a poorly documented open-source project. Write improved documentation for one class and submit a comparison showing before/after.\n",
    "\n",
    "---"
   ]
  }
 ],
 "metadata": {
  "kernelspec": {
   "display_name": "Java",
   "language": "java",
   "name": "java"
  },
  "language_info": {
   "codemirror_mode": "java",
   "file_extension": ".jshell",
   "mimetype": "text/x-java-source",
   "name": "Java",
   "pygments_lexer": "java",
   "version": "17.0.16+0"
  }
 },
 "nbformat": 4,
 "nbformat_minor": 5
}
