{
 "cells": [
  {
   "cell_type": "raw",
   "id": "985dbac9",
   "metadata": {
    "vscode": {
     "languageId": "raw"
    }
   },
   "source": [
    "---\n",
    "title: Math Class Homework\n",
    "comments: true\n",
    "layout: post\n",
    "permalink: /csa/unit_01/1_11/homework/\n",
    "author: Gurshawn, Anvay, Akshay\n",
    "---"
   ]
  },
  {
   "cell_type": "markdown",
   "id": "25cb951c",
   "metadata": {},
   "source": [
    "## Homework Checklist\n",
    "- 2 Popcorn Hacks\n",
    "- MCQ\n",
    "- Homework Hack"
   ]
  },
  {
   "cell_type": "code",
   "execution_count": null,
   "id": "99cb0432",
   "metadata": {
    "vscode": {
     "languageId": "java"
    }
   },
   "outputs": [],
   "source": [
    "int n = (int) Math.pow(2, 3.0 / 2);\n",
    "System.out.println(n);"
   ]
  },
  {
   "cell_type": "markdown",
   "id": "4567a280",
   "metadata": {},
   "source": [
    "What is printed?\n",
    "\n",
    "A. 2\n",
    "B. 3\n",
    "C. 4\n",
    "D. It does not compile"
   ]
  },
  {
   "cell_type": "code",
   "execution_count": null,
   "id": "b49bc34c",
   "metadata": {
    "vscode": {
     "languageId": "java"
    }
   },
   "outputs": [],
   "source": [
    "int r = (int) (Math.random() * 6) + 5;"
   ]
  },
  {
   "cell_type": "markdown",
   "id": "4ae4b0ed",
   "metadata": {},
   "source": [
    "Which statement best describes the values produced by:\n",
    "A. An int from 5 to 10, inclusive\n",
    "B. An int from 5 to 11, inclusive\n",
    "C. An int from 6 to 10, inclusive\n",
    "D. An int from 6 to 11, inclusive"
   ]
  },
  {
   "cell_type": "code",
   "execution_count": null,
   "id": "a75c1ce2",
   "metadata": {
    "vscode": {
     "languageId": "java"
    }
   },
   "outputs": [],
   "source": [
    "long a = Math.round(-3.5);\n",
    "double b = Math.floor(-3.1);\n",
    "double c = Math.ceil(-3.1);\n",
    "int x = (int) a + (int) b + (int) c;\n"
   ]
  },
  {
   "cell_type": "markdown",
   "id": "3c8f86a8",
   "metadata": {},
   "source": [
    "What is the value of x after executing:\n",
    "A. -10\n",
    "B. -9\n",
    "C. -8\n",
    "D. -7"
   ]
  },
  {
   "cell_type": "markdown",
   "id": "72eb9a30",
   "metadata": {
    "vscode": {
     "languageId": "java"
    }
   },
   "source": [
    "Which expression correctly computes the Euclidean distance between points (x1, y1) and (x2, y2)?\n",
    "A.\n",
    "\n",
    "Math.sqrt(Math.pow(x2 - x1, 2) + Math.pow(y2 - y1, 2))\n",
    "\n",
    "\n",
    "B.\n",
    "\n",
    "Math.pow((x2 - x1) + (y2 - y1), 2)\n",
    "\n",
    "\n",
    "C.\n",
    "\n",
    "Math.abs((x2 - x1) + (y2 - y1))\n",
    "\n",
    "\n",
    "D.\n",
    "\n",
    "Math.sqrt(Math.pow(x2 + x1, 2) + Math.pow(y2 + y1, 2))"
   ]
  },
  {
   "cell_type": "code",
   "execution_count": null,
   "id": "36ced226",
   "metadata": {
    "vscode": {
     "languageId": "java"
    }
   },
   "outputs": [],
   "source": [
    "int a = (int) Math.sqrt(26);\n",
    "int b = (int) Math.sqrt(26);\n",
    "System.out.println(a * b);\n"
   ]
  },
  {
   "cell_type": "markdown",
   "id": "cc73b5d5",
   "metadata": {},
   "source": [
    "What is printed?\n",
    "A. 5\n",
    "B. 25\n",
    "C. 26\n",
    "D. 27"
   ]
  },
  {
   "cell_type": "markdown",
   "id": "f8ed5a34",
   "metadata": {},
   "source": [
    "## Homework Hack: Game Stats Calculator\n",
    "\n",
    "You're creating a simple game and need to write methods to handle player statistics. Complete the following methods using Math class methods you learned in the lesson.\n",
    "\n",
    "### Part A: Health Difference Calculator\n",
    "\n",
    "Write a method that calculates the absolute difference between two players' health values.\n",
    "\n",
    "**Method signature:**\n",
    "```java\n",
    "public static int healthDifference(int player1Health, int player2Health)\n",
    "```\n",
    "\n",
    "**Requirements:**\n",
    "- Use `Math.abs()` to ensure the result is always positive\n",
    "- Return the absolute difference between the two health values\n",
    "\n",
    "**Examples:**\n",
    "- `healthDifference(75, 120)` → `45`\n",
    "- `healthDifference(100, 80)` → `20`\n",
    "- `healthDifference(50, 50)` → `0`\n",
    "\n",
    "### Part B: Attack Damage Calculator\n",
    "\n",
    "Write a method that calculates attack damage using a base damage and a power multiplier.\n",
    "\n",
    "**Method signature:**\n",
    "```java\n",
    "public static double calculateDamage(double baseDamage, double powerLevel)\n",
    "```\n",
    "\n",
    "**Requirements:**\n",
    "- Use `Math.pow()` to calculate: `baseDamage * (1.5 ^ powerLevel)`\n",
    "- Return the total damage as a double\n",
    "\n",
    "**Examples:**\n",
    "- `calculateDamage(10.0, 2)` → `22.5`\n",
    "- `calculateDamage(15.0, 3)` → `50.625`\n",
    "\n",
    "### Part C: Distance Detector\n",
    "\n",
    "Write a method that calculates the distance between a player and an enemy using the distance formula.\n",
    "\n",
    "**Method signature:**\n",
    "```java\n",
    "public static double findDistance(int playerX, int playerY, int enemyX, int enemyY)\n",
    "```\n",
    "\n",
    "**Requirements:**\n",
    "- Use the distance formula: √((x2-x1)² + (y2-y1)²)\n",
    "- Use `Math.pow()` for squaring\n",
    "- Use `Math.sqrt()` for the square root\n",
    "\n",
    "**Examples:**\n",
    "- `findDistance(0, 0, 3, 4)` → `5.0`\n",
    "- `findDistance(1, 1, 4, 5)` → `5.0`\n",
    "\n",
    "### Part D: Random Loot Generator\n",
    "\n",
    "Write a method that generates a random loot value within a specific range.\n",
    "\n",
    "**Method signature:**\n",
    "```java\n",
    "public static int generateLoot(int minValue, int maxValue)\n",
    "```\n",
    "\n",
    "**Requirements:**\n",
    "- Use `Math.random()` and the formula from the lesson\n",
    "- Return a random integer from minValue to maxValue (inclusive)\n",
    "- Formula: `(int)(Math.random() * (max - min + 1)) + min`\n",
    "\n",
    "**Examples:**\n",
    "- `generateLoot(10, 50)` → random number from 10 to 50\n",
    "- `generateLoot(100, 100)` → `100`\n",
    "- `generateLoot(1, 6)` → random number from 1 to 6 (like a dice roll)\n"
   ]
  },
  {
   "cell_type": "markdown",
   "id": "ce351acd",
   "metadata": {},
   "source": [
    "### Hints to Help You:\n",
    "\n",
    "**For Part A (Health Difference):**\n",
    "- Remember: `Math.abs()` makes any negative number positive\n",
    "- Just subtract the two health values and use `Math.abs()` on the result\n",
    "\n",
    "**For Part B (Attack Damage):**\n",
    "- Remember: `Math.pow(base, exponent)` calculates base^exponent\n",
    "- The formula is: baseDamage × (1.5)^powerLevel\n",
    "- Don't forget `Math.pow()` returns a double\n",
    "\n",
    "**For Part C (Distance):**\n",
    "- Use the Pythagorean theorem: distance = √((x2-x1)² + (y2-y1)²)\n",
    "- Square the differences using `Math.pow(difference, 2)`\n",
    "- Then use `Math.sqrt()` on the sum\n",
    "\n",
    "**For Part D (Random Loot):**\n",
    "- Use the exact formula from the lesson: `(int)(Math.random() * (max - min + 1)) + min`\n",
    "- Make sure to include the `+1` to make the max inclusive!\n",
    "\n",
    "---\n",
    "\n",
    "## What to Submit:\n",
    "\n",
    "1. ✅ Complete **2 Popcorn Hacks** from the lesson (Power Level Calculator & Loot Drop Simulator)\n",
    "2. ✅ Answer all **5 MCQ questions** above\n",
    "3. ✅ Complete all **4 parts (A-D)** of the Homework Hack\n",
    "4. ✅ Submit the link to your blog in the form below\n",
    "\n",
    "**Grading:**\n",
    "- Popcorn Hacks: 0.2 points\n",
    "- MCQ: 0.30 points  \n",
    "- Homework Hack (Parts A-D): 0.50 points\n",
    "\n",
    "\n",
    "## Due by Oct 17th\n",
    "\n"
   ]
  },
  {
   "cell_type": "markdown",
   "id": "131eaf6e",
   "metadata": {},
   "source": [
    "## Popcorn HW Hack 1"
   ]
  },
  {
   "cell_type": "code",
   "execution_count": 3,
   "id": "625f65e9",
   "metadata": {
    "vscode": {
     "languageId": "java"
    }
   },
   "outputs": [
    {
     "name": "stdout",
     "output_type": "stream",
     "text": [
      "Level: 10\n",
      "Base Power: 100\n",
      "Final Power: 619.17\n"
     ]
    }
   ],
   "source": [
    "public class PowerLevelCalculator {\n",
    "    public static void main(String[] args) {\n",
    "        // Base power is always 100\n",
    "        int basePower = 100;\n",
    "\n",
    "        // Hard-code the level (you could use Scanner for user input instead)\n",
    "        int level = 10;\n",
    "\n",
    "        // Use Math.pow() to calculate power\n",
    "        double finalPower = basePower * Math.pow(1.2, level);\n",
    "\n",
    "        // Print results\n",
    "        System.out.println(\"Level: \" + level);\n",
    "        System.out.println(\"Base Power: \" + basePower);\n",
    "        System.out.println(\"Final Power: \" + String.format(\"%.2f\", finalPower)); // rounds to 2 decimals\n",
    "    }\n",
    "}\n",
    "\n",
    "PowerLevelCalculator.main(null); // Call main to execute the code"
   ]
  },
  {
   "cell_type": "markdown",
   "id": "8591050b",
   "metadata": {},
   "source": [
    "## Popcorn HW Hack 2"
   ]
  },
  {
   "cell_type": "code",
   "execution_count": 5,
   "id": "d1ad7e43",
   "metadata": {
    "vscode": {
     "languageId": "java"
    }
   },
   "outputs": [
    {
     "name": "stdout",
     "output_type": "stream",
     "text": [
      "Loot Drop!\n",
      "Rarity Roll: 26\n",
      "You got: COMMON item\n",
      "Gold Value: 21\n"
     ]
    }
   ],
   "source": [
    "public class LootDropSimulator {\n",
    "    public static void main(String[] args) {\n",
    "        // Generate a random rarity roll between 1 and 100\n",
    "        int rarityRoll = (int)(Math.random() * 100) + 1;\n",
    "\n",
    "        String rarity = \"\";\n",
    "        int goldValue = 0;\n",
    "\n",
    "        // Determine rarity and gold value\n",
    "        if (rarityRoll <= 60) {\n",
    "            rarity = \"COMMON\";\n",
    "            goldValue = (int)(Math.random() * (30 - 10 + 1)) + 10; // 10-30 gold\n",
    "        } else if (rarityRoll <= 85) {\n",
    "            rarity = \"RARE\";\n",
    "            goldValue = (int)(Math.random() * (70 - 31 + 1)) + 31; // 31-70 gold\n",
    "        } else {\n",
    "            rarity = \"LEGENDARY\";\n",
    "            goldValue = (int)(Math.random() * (100 - 71 + 1)) + 71; // 71-100 gold\n",
    "        }\n",
    "\n",
    "        // Print the loot\n",
    "        System.out.println(\"Loot Drop!\");\n",
    "        System.out.println(\"Rarity Roll: \" + rarityRoll);\n",
    "        System.out.println(\"You got: \" + rarity + \" item\");\n",
    "        System.out.println(\"Gold Value: \" + goldValue);\n",
    "    }\n",
    "}\n",
    "\n",
    "LootDropSimulator.main(null); // Call main to execute the code"
   ]
  },
  {
   "cell_type": "markdown",
   "id": "1aaf7abf",
   "metadata": {},
   "source": [
    "## HW Hack 1"
   ]
  },
  {
   "cell_type": "code",
   "execution_count": 2,
   "id": "276cd823",
   "metadata": {
    "vscode": {
     "languageId": "java"
    }
   },
   "outputs": [
    {
     "name": "stdout",
     "output_type": "stream",
     "text": [
      "Health Difference: 45\n",
      "Attack Damage: 22.5\n",
      "Distance: 5.0\n",
      "Random Loot: 24\n"
     ]
    }
   ],
   "source": [
    "public class GameStatsCalculator {\n",
    "\n",
    "    // Part A: Health Difference Calculator\n",
    "    public static int healthDifference(int player1Health, int player2Health) {\n",
    "        return Math.abs(player1Health - player2Health);\n",
    "    }\n",
    "\n",
    "    // Part B: Attack Damage Calculator\n",
    "    public static double calculateDamage(double baseDamage, double powerLevel) {\n",
    "        return baseDamage * Math.pow(1.5, powerLevel);\n",
    "    }\n",
    "\n",
    "    // Part C: Distance Detector\n",
    "    public static double findDistance(int playerX, int playerY, int enemyX, int enemyY) {\n",
    "        return Math.sqrt(Math.pow(enemyX - playerX, 2) + Math.pow(enemyY - playerY, 2));\n",
    "    }\n",
    "\n",
    "    // Part D: Random Loot Generator\n",
    "    public static int generateLoot(int minValue, int maxValue) {\n",
    "        return (int)(Math.random() * (maxValue - minValue + 1)) + minValue;\n",
    "    }\n",
    "\n",
    "    // Optional: Test the methods\n",
    "    public static void main(String[] args) {\n",
    "        System.out.println(\"Health Difference: \" + healthDifference(75, 120)); // 45\n",
    "        System.out.println(\"Attack Damage: \" + calculateDamage(10.0, 2)); // 22.5\n",
    "        System.out.println(\"Distance: \" + findDistance(0, 0, 3, 4)); // 5.0\n",
    "        System.out.println(\"Random Loot: \" + generateLoot(10, 50)); // random 10–50\n",
    "    }\n",
    "}\n",
    "\n",
    "GameStatsCalculator.main(null); // Call main to execute the code"
   ]
  },
  {
   "cell_type": "markdown",
   "id": "903a67b2",
   "metadata": {},
   "source": [
    "## Submit Your Work\n",
    "\n",
    "Complete the form below to submit your MC answers and blog link:\n",
    "\n",
    "<iframe src=\"https://docs.google.com/forms/d/e/1FAIpQLSeb5Z08fc9-AcTt-O7pcqOWChzBVEvB2x7rEX253Z9XRNdvCQ/viewform?embedded=true\" width=\"100%\" height=\"1200\" frameborder=\"0\" marginheight=\"0\" marginwidth=\"0\">Loading…</iframe>\n",
    "\n"
   ]
  },
  {
   "cell_type": "markdown",
   "id": "29a3c31f",
   "metadata": {},
   "source": []
  }
 ],
 "metadata": {
  "kernelspec": {
   "display_name": "Java",
   "language": "java",
   "name": "java"
  },
  "language_info": {
   "codemirror_mode": "java",
   "file_extension": ".jshell",
   "mimetype": "text/x-java-source",
   "name": "Java",
   "pygments_lexer": "java",
   "version": "17.0.16+0"
  }
 },
 "nbformat": 4,
 "nbformat_minor": 5
}
