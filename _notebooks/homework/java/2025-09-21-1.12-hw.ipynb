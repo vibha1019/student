{
 "cells": [
  {
   "cell_type": "raw",
   "id": "b8d8b69f",
   "metadata": {
    "vscode": {
     "languageId": "raw"
    }
   },
   "source": [
    "---\n",
    "title: 1.12 Homework\n",
    "comments: true\n",
    "layout: post\n",
    "permalink: /csa/unit_01/1_12/homework/\n",
    "author: Trevor, Kush, Elliot, Aranya, Travis, Alex\n",
    "---"
   ]
  },
  {
   "cell_type": "markdown",
   "id": "4aba089c",
   "metadata": {},
   "source": [
    "# Homework\n",
    "---\n",
    "# Scenario\n",
    "\n",
    "Its your first day of class when Mr. Mortenson asks you to identify all the students and list some characteristics about them. Create a class to use as a template to create student objects and create 3 imaginary students.\n",
    "---\n",
    "\n",
    "# Instructions\n",
    "1. **Create a class**\n",
    "    -    **Instance variables:**  \n",
    "    - `String name`  \n",
    "    - `int grade`  \n",
    "    - `int pets`  \n",
    "    - `int siblings`\n",
    "    - `MAKE YOUR OWN`\n",
    "\n",
    "2. **In `main`:**  \n",
    "    - Create three student objects.  \n"
   ]
  },
  {
   "cell_type": "code",
   "execution_count": 1,
   "id": "a98781a8",
   "metadata": {
    "vscode": {
     "languageId": "java"
    }
   },
   "outputs": [
    {
     "name": "stdout",
     "output_type": "stream",
     "text": [
      "Name: Ava\n",
      "Grade: 10\n",
      "Number of pets: 2\n",
      "Number of siblings: 1\n",
      "Favorite subject: Computer Science\n",
      "\n",
      "Name: Leo\n",
      "Grade: 11\n",
      "Number of pets: 0\n",
      "Number of siblings: 3\n",
      "Favorite subject: Math\n",
      "\n",
      "Name: Maya\n",
      "Grade: 9\n",
      "Number of pets: 1\n",
      "Number of siblings: 0\n",
      "Favorite subject: English\n",
      "\n"
     ]
    }
   ],
   "source": [
    "public class Student {\n",
    "    // Instance variables\n",
    "    String name;\n",
    "    int grade;\n",
    "    int pets;\n",
    "    int siblings;\n",
    "    String favoriteSubject; // your own variable\n",
    "\n",
    "    // Constructor\n",
    "    public Student(String name, int grade, int pets, int siblings, String favoriteSubject) {\n",
    "        this.name = name;\n",
    "        this.grade = grade;\n",
    "        this.pets = pets;\n",
    "        this.siblings = siblings;\n",
    "        this.favoriteSubject = favoriteSubject;\n",
    "    }\n",
    "\n",
    "    // Method to print student info\n",
    "    public void printInfo() {\n",
    "        System.out.println(\"Name: \" + name);\n",
    "        System.out.println(\"Grade: \" + grade);\n",
    "        System.out.println(\"Number of pets: \" + pets);\n",
    "        System.out.println(\"Number of siblings: \" + siblings);\n",
    "        System.out.println(\"Favorite subject: \" + favoriteSubject);\n",
    "        System.out.println();\n",
    "    }\n",
    "\n",
    "    // Main method\n",
    "    public static void main(String[] args) {\n",
    "        // Create 3 student objects\n",
    "        Student s1 = new Student(\"Ava\", 10, 2, 1, \"Computer Science\");\n",
    "        Student s2 = new Student(\"Leo\", 11, 0, 3, \"Math\");\n",
    "        Student s3 = new Student(\"Maya\", 9, 1, 0, \"English\");\n",
    "\n",
    "        // Print their info\n",
    "        s1.printInfo();\n",
    "        s2.printInfo();\n",
    "        s3.printInfo();\n",
    "    }\n",
    "}\n",
    "\n",
    "Student.main(null);"
   ]
  },
  {
   "cell_type": "markdown",
   "id": "a4f5f575",
   "metadata": {},
   "source": [
    "# New Scenario\n",
    "\n",
    "You find out that one of the students that you created an object for goes by a nickname. Using your knowledge of reference variables,  create another object that references back to the same student.\n",
    "---\n",
    "\n",
    "# Instructions\n",
    "1. **Use your previous code**\n",
    "\n",
    "\n",
    "2. **In `main`:**  \n",
    "    - Create a reference variable with a different name that points to the same student. \n",
    "    - Output the instance attributes of this student\n"
   ]
  },
  {
   "cell_type": "code",
   "execution_count": null,
   "id": "326d3c08",
   "metadata": {
    "vscode": {
     "languageId": "java"
    }
   },
   "outputs": [],
   "source": [
    "public class Student {\n",
    "    // Instance variables\n",
    "    String name;\n",
    "    int grade;\n",
    "    int pets;\n",
    "    int siblings;\n",
    "    String favoriteSubject; // your own variable\n",
    "\n",
    "    // Constructor\n",
    "    public Student(String name, int grade, int pets, int siblings, String favoriteSubject) {\n",
    "        this.name = name;\n",
    "        this.grade = grade;\n",
    "        this.pets = pets;\n",
    "        this.siblings = siblings;\n",
    "        this.favoriteSubject = favoriteSubject;\n",
    "    }\n",
    "\n",
    "    // Method to print student info\n",
    "    public void printInfo() {\n",
    "        System.out.println(\"Name: \" + name);\n",
    "        System.out.println(\"Grade: \" + grade);\n",
    "        System.out.println(\"Number of pets: \" + pets);\n",
    "        System.out.println(\"Number of siblings: \" + siblings);\n",
    "        System.out.println(\"Favorite subject: \" + favoriteSubject);\n",
    "        System.out.println();\n",
    "    }\n",
    "\n",
    "    // Main method\n",
    "    public static void main(String[] args) {\n",
    "        // Create 3 student objects\n",
    "        Student s1 = new Student(\"Ava\", 10, 2, 1, \"Computer Science\");\n",
    "        Student s2 = new Student(\"Leo\", 11, 0, 3, \"Math\");\n",
    "        Student s3 = new Student(\"Maya\", 9, 1, 0, \"English\");\n",
    "\n",
    "        // Print their info\n",
    "        s1.printInfo();\n",
    "        s2.printInfo();\n",
    "        s3.printInfo();\n",
    "\n",
    "        // New scenario: one student goes by a nickname\n",
    "        // Create another reference variable that points to the same student\n",
    "        Student nickname = s1;\n",
    "\n",
    "        // Change the name using the nickname reference\n",
    "        nickname.name = \"Avie\";\n",
    "\n",
    "        // Output the attributes through both references to show they point to the same object\n",
    "        System.out.println(\"Accessing through s1 reference:\");\n",
    "        s1.printInfo();\n",
    "\n",
    "        System.out.println(\"Accessing through nickname reference:\");\n",
    "        nickname.printInfo();\n",
    "    }\n",
    "}\n",
    "\n",
    "Student.main(null);"
   ]
  }
 ],
 "metadata": {
  "kernelspec": {
   "display_name": "Java",
   "language": "java",
   "name": "java"
  },
  "language_info": {
   "codemirror_mode": "java",
   "file_extension": ".jshell",
   "mimetype": "text/x-java-source",
   "name": "Java",
   "pygments_lexer": "java",
   "version": "17.0.16+0"
  }
 },
 "nbformat": 4,
 "nbformat_minor": 5
}
