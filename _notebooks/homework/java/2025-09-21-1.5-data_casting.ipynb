{
  "cells": [
    {
      "cell_type": "raw",
      "id": "a11a4f47",
      "metadata": {
        "vscode": {
          "languageId": "raw"
        }
      },
      "source": [
        "---\n",
        "title: Data Casting\n",
        "comments: true\n",
        "layout: post\n",
        "permalink: /csa/unit_01/1_5/homework/\n",
        "description: Variables and Data Types\n",
        "author: Ansh, Yash, Mihir\n",
        "---"
      ]
    },
    {
      "cell_type": "markdown",
      "id": "80b57aee",
      "metadata": {},
      "source": [
        "# AP CSA Unit 1.5 — Casting and Range of Variables (2025)\n",
        "\n",
        "**Scope**: Java casting between `int` and `double`, integer division, modulus, and range/overflow behavior of `int`.  \n",
        "**Goal**: Predict results, spot overflow, and place casts correctly to control evaluation.\n"
      ]
    },
    {
      "cell_type": "markdown",
      "id": "8bd42425",
      "metadata": {},
      "source": [
        "## Introduction\n",
        "\n",
        "What do you expect the output of this program to be??"
      ]
    },
    {
      "cell_type": "code",
      "execution_count": 1,
      "id": "a71dbfec",
      "metadata": {},
      "outputs": [
        {
          "name": "stdout",
          "output_type": "stream",
          "text": [
            "2\n",
            "2.5\n",
            "3\n",
            "4\n"
          ]
        }
      ],
      "source": [
        "int a = 5, b = 2;\n",
        "System.out.println(a / b);\n",
        "System.out.println((double)a / b);\n",
        "System.out.println((int)3.9);\n",
        "System.out.println((int)(3.9 + 0.5));"
      ]
    },
    {
      "cell_type": "markdown",
      "id": "d3757cf6",
      "metadata": {},
      "source": [
        "## Learning goals\n",
        "- Use `(int)` and `(double)` correctly.  \n",
        "- Explain truncation vs rounding.  \n",
        "- Predict results of mixed `int`/`double` expressions.  \n",
        "- Identify overflow with `Integer.MAX_VALUE` / `Integer.MIN_VALUE`.  \n",
        "- Apply `%` and integer division rules.\n"
      ]
    },
    {
      "cell_type": "markdown",
      "id": "926103c1",
      "metadata": {},
      "source": [
        "## Quick reference\n",
        "\n",
        "**Casting**\n",
        "- Widening (automatic): `int → double` (no loss).  \n",
        "- Narrowing (explicit): `double → int` with truncation toward 0.\n",
        "\n",
        "**Integer division**\n",
        "- If both operands are `int`, result is `int` with truncation.  \n",
        "- `%` returns the remainder.\n",
        "\n",
        "**Ranges**\n",
        "- `int`: from `-2^31` to `2^31 - 1` ⇒ `-2147483648` to `2147483647`.  \n",
        "- `double`: ~15 digits of precision, IEEE 754.\n",
        "\n",
        "**Rounding to nearest `int` (per AP CSA CED)**\n",
        "- Non‑negative `x`: `(int)(x + 0.5)`  \n",
        "- Negative `x`: `(int)(x - 0.5)`\n",
        "\n",
        "## Casting in Java\n"
      ]
    },
    {
      "cell_type": "code",
      "execution_count": null,
      "id": "003a0d13",
      "metadata": {},
      "outputs": [],
      "source": [
        "public class CastDemo {\n",
        "    public static void main(String[] args) {\n",
        "        int a = 7, b = 2;\n",
        "        System.out.println(a / b);          // 3  (int division)\n",
        "        System.out.println((double)a / b);  // 3.5 (promoted to double before divide)\n",
        "\n",
        "        double d = 5.9;\n",
        "        int t = (int) d;                    // 5  (truncate toward 0)\n",
        "        System.out.println(t);\n",
        "\n",
        "        // Rounding to nearest int (per CED):\n",
        "        int rPos = (int)(d + 0.5);          // 6  (non-negative rounding)\n",
        "        double n = -5.9;\n",
        "        int rNeg = (int)(n - 0.5);          // -6 (negative rounding)\n",
        "        System.out.println(rPos + \" \" + rNeg);\n",
        "    }\n",
        "}"
      ]
    },
    {
      "cell_type": "markdown",
      "id": "2e5b856a",
      "metadata": {},
      "source": [
        "## Integer division and `%`"
      ]
    },
    {
      "cell_type": "markdown",
      "id": "5df64ea5",
      "metadata": {},
      "source": [
        "int x = 17, y = 5;\n",
        "System.out.println(x / y); // 3\n",
        "System.out.println(x % y); // 2"
      ]
    },
    {
      "cell_type": "markdown",
      "id": "11bb7a20",
      "metadata": {},
      "source": [
        "\n",
        "Properties: `x == (x / y) * y + (x % y)` when `y != 0`.\n",
        "\n",
        "## Range and overflow in Java `int`"
      ]
    },
    {
      "cell_type": "code",
      "execution_count": 3,
      "id": "5a040b47",
      "metadata": {},
      "outputs": [
        {
          "name": "stdout",
          "output_type": "stream",
          "text": [
            "-2147483648\n",
            "2147483647\n"
          ]
        }
      ],
      "source": [
        "int max = Integer.MAX_VALUE;  //  2147483647\n",
        "int min = Integer.MIN_VALUE;  // -2147483648\n",
        "\n",
        "System.out.println(max + 1);  // overflow → -2147483648\n",
        "System.out.println(min - 1);  // overflow →  2147483647"
      ]
    },
    {
      "cell_type": "markdown",
      "id": "e7be835f",
      "metadata": {},
      "source": [
        "\n",
        "Overflow wraps around within the 32‑bit signed range.\n",
        "\n",
        "### Python helper: simulate Java 32‑bit `int`\n",
        "\n",
        "The following Python utilities mimic Java's 32‑bit signed `int` arithmetic so you can experiment inside this notebook.\n"
      ]
    },
    {
      "cell_type": "code",
      "execution_count": 1,
      "id": "dc38675f",
      "metadata": {},
      "outputs": [
        {
          "name": "stdout",
          "output_type": "stream",
          "text": [
            "INT_MIN, INT_MAX: -2147483648 2147483647\n",
            "Overflow examples:\n",
            "MAX+1 = -2147483648\n",
            "MIN-1 = 2147483647\n",
            "(-7)/2  = -3   (-7)%2 = -1\n",
            "(7)/-2  = -3   (7)%-2 = 1\n"
          ]
        }
      ],
      "source": [
        "\n",
        "# Utilities to simulate Java 32-bit signed int in Python\n",
        "INT_MIN = -2**31\n",
        "INT_MAX =  2**31 - 1\n",
        "MASK32  =  0xFFFFFFFF\n",
        "\n",
        "def to_int32(x: int) -> int:\n",
        "    x &= MASK32\n",
        "    # convert to signed\n",
        "    return x if x <= INT_MAX else x - (1 << 32)\n",
        "\n",
        "def add_int32(a: int, b: int) -> int:\n",
        "    return to_int32(a + b)\n",
        "\n",
        "def sub_int32(a: int, b: int) -> int:\n",
        "    return to_int32(a - b)\n",
        "\n",
        "def mul_int32(a: int, b: int) -> int:\n",
        "    return to_int32(a * b)\n",
        "\n",
        "def div_int32(a: int, b: int) -> int:\n",
        "    # Java int division truncates toward zero\n",
        "    if b == 0:\n",
        "        raise ZeroDivisionError(\"division by zero\")\n",
        "    q = int(a / b)  # Python truncates toward zero for int()\n",
        "    return to_int32(q)\n",
        "\n",
        "def mod_int32(a: int, b: int) -> int:\n",
        "    # Java remainder has same sign as dividend (a)\n",
        "    if b == 0:\n",
        "        raise ZeroDivisionError(\"mod by zero\")\n",
        "    q = div_int32(a, b)\n",
        "    r = to_int32(a - q * b)\n",
        "    return r\n",
        "\n",
        "# Demo\n",
        "print(\"INT_MIN, INT_MAX:\", INT_MIN, INT_MAX)\n",
        "print(\"Overflow examples:\")\n",
        "print(\"MAX+1 =\", add_int32(INT_MAX, 1))\n",
        "print(\"MIN-1 =\", sub_int32(INT_MIN, 1))\n",
        "print(\"(-7)/2  =\", div_int32(-7, 2), \"  (-7)%2 =\", mod_int32(-7, 2))\n",
        "print(\"(7)/-2  =\", div_int32(7, -2), \"  (7)%-2 =\", mod_int32(7, -2))\n"
      ]
    },
    {
      "cell_type": "markdown",
      "id": "abe33b42",
      "metadata": {},
      "source": [
        "## Truncation vs rounding (runnable demo)\n",
        "\n",
        "In Java, `(int) 5.9` → `5` because casting truncates toward 0.  \n",
        "The CED rounding technique: `(int)(x + 0.5)` for non‑negative, `(int)(x - 0.5)` for negative.\n"
      ]
    },
    {
      "cell_type": "code",
      "execution_count": null,
      "id": "135bdd65",
      "metadata": {},
      "outputs": [
        {
          "name": "stdout",
          "output_type": "stream",
          "text": [
            "x=  5.1  truncate=  5  ced_round=  5\n",
            "x=  5.5  truncate=  5  ced_round=  6\n",
            "x=  5.9  truncate=  5  ced_round=  6\n",
            "x= -5.1  truncate= -5  ced_round= -5\n",
            "x= -5.5  truncate= -5  ced_round= -6\n",
            "x= -5.9  truncate= -5  ced_round= -6\n",
            "x= 0.49  truncate=  0  ced_round=  0\n",
            "x=-0.49  truncate=  0  ced_round=  0\n"
          ]
        }
      ],
      "source": [
        "\n",
        "def java_truncate(x: float) -> int:\n",
        "    # Casting double->int truncates toward 0\n",
        "    return int(x)  # Python int() also truncates toward 0\n",
        "\n",
        "def ced_round(x: float) -> int:\n",
        "    if x >= 0:\n",
        "        return int(x + 0.5)\n",
        "    else:\n",
        "        return int(x - 0.5)\n",
        "\n",
        "tests = [5.1, 5.5, 5.9, -5.1, -5.5, -5.9, 0.49, -0.49]\n",
        "for v in tests:\n",
        "    print(f\"x={v:5}  truncate={java_truncate(v):3}  ced_round={ced_round(v):3}\")\n"
      ]
    },
    {
      "cell_type": "markdown",
      "id": "868bfca1",
      "metadata": {},
      "source": [
        "## Promotion rules in mixed expressions\n",
        "\n",
        "- If either operand is `double`, the other is promoted to `double` before the operation.  \n",
        "- If both are `int`, integer arithmetic is used."
      ]
    },
    {
      "cell_type": "code",
      "execution_count": 1,
      "id": "65a7a8ed",
      "metadata": {},
      "outputs": [],
      "source": [
        "int a = 3, b = 2;\n",
        "double x = a / b;          // 1.0   (int division then widened)\n",
        "double y = (double)a / b;  // 1.5   (promoted before divide)"
      ]
    },
    {
      "cell_type": "markdown",
      "id": "5f5362b7",
      "metadata": {},
      "source": [
        "## Practice: predict the output (Java)\n",
        "\n",
        "Write your answers, then check against the key below.\n",
        "\n",
        "**Q1**"
      ]
    },
    {
      "cell_type": "code",
      "execution_count": 1,
      "id": "77e1b377",
      "metadata": {},
      "outputs": [
        {
          "name": "stdout",
          "output_type": "stream",
          "text": [
            "2\n",
            "2\n",
            "2.0\n",
            "2.5\n"
          ]
        }
      ],
      "source": [
        "int a = 10, b = 4;\n",
        "System.out.println(a / b);\n",
        "System.out.println(a % b);\n",
        "System.out.println((double)(a / b));\n",
        "System.out.println((double)a / b);"
      ]
    },
    {
      "cell_type": "markdown",
      "id": "2fc41bca",
      "metadata": {},
      "source": [
        "**Q2**"
      ]
    },
    {
      "cell_type": "code",
      "execution_count": 2,
      "id": "c61c2783",
      "metadata": {},
      "outputs": [
        {
          "name": "stdout",
          "output_type": "stream",
          "text": [
            "-2\n",
            "-3\n",
            "3\n"
          ]
        }
      ],
      "source": [
        "double d = -2.6;\n",
        "System.out.println((int)d);\n",
        "System.out.println((int)(d - 0.5));\n",
        "System.out.println((int)(-d + 0.5));"
      ]
    },
    {
      "cell_type": "markdown",
      "id": "6c7f83c8",
      "metadata": {},
      "source": [
        "**Q3**"
      ]
    },
    {
      "cell_type": "code",
      "execution_count": 3,
      "id": "e7df7f84",
      "metadata": {},
      "outputs": [
        {
          "name": "stdout",
          "output_type": "stream",
          "text": [
            "2147483647\n",
            "-2147483647\n"
          ]
        }
      ],
      "source": [
        "int x = Integer.MAX_VALUE;\n",
        "int y = x + 2;\n",
        "System.out.println(x);\n",
        "System.out.println(y);"
      ]
    },
    {
      "cell_type": "markdown",
      "id": "c2b8c7fc",
      "metadata": {},
      "source": [
        "## Answer key\n",
        "\n",
        "**Q1**\n",
        "```\n",
        "2\n",
        "2\n",
        "2.0\n",
        "2.5\n",
        "```\n",
        "\n",
        "**Q2**\n",
        "```\n",
        "-2\n",
        "-3\n",
        "3\n",
        "```\n",
        "\n",
        "**Q3**\n",
        "```\n",
        "2147483647\n",
        "-2147483647   // wraps: MAX_VALUE + 2\n",
        "```"
      ]
    },
    {
      "cell_type": "markdown",
      "id": "d448e351",
      "metadata": {},
      "source": [
        "### Optional: use Python helpers to reason about Q1\n",
        "\n",
        "The following Python mimics the Java behavior for integer parts.\n"
      ]
    },
    {
      "cell_type": "code",
      "execution_count": 1,
      "id": "f6de1e45",
      "metadata": {},
      "outputs": [
        {
          "name": "stdout",
          "output_type": "stream",
          "text": [
            "a / b   = 2\n",
            "a % b   = 2\n",
            "(double)(a / b) = 2.0\n",
            "(double)a / b   = 2.5\n"
          ]
        }
      ],
      "source": [
        "\n",
        "# Q1 reasoning\n",
        "a, b = 10, 4\n",
        "print(\"a / b   =\", int(a / b))   # integer division result\n",
        "print(\"a % b   =\", a - int(a / b) * b)\n",
        "print(\"(double)(a / b) =\", float(int(a / b)))\n",
        "print(\"(double)a / b   =\", a / b)  # Python uses float division here by default"
      ]
    },
    {
      "cell_type": "markdown",
      "id": "891505df",
      "metadata": {},
      "source": [
        "## FRQ-style tasks\n",
        "\n",
        "**FRQ 1. Average with correct casting**  \n",
        "Write a method `avgInt` that takes two `int` values and returns their average as a `double`, preserving the `.5` if present.\n"
      ]
    },
    {
      "cell_type": "code",
      "execution_count": 3,
      "id": "73fd04b6",
      "metadata": {},
      "outputs": [],
      "source": [
        "public static double avgInt(int a, int b) {\n",
        "    return (a + b) / 2.0;\n",
        "}\n",
        " "
      ]
    },
    {
      "cell_type": "markdown",
      "id": "b93bd549",
      "metadata": {},
      "source": [
        "**FRQ 2. Percentage**  \n",
        "Given `int correct` and `int total`, compute the percentage as a `double` from 0.0 to 100.0 **without** losing fractional precision."
      ]
    },
    {
      "cell_type": "code",
      "execution_count": 2,
      "id": "fe8b95db",
      "metadata": {},
      "outputs": [],
      "source": [
        "public static double percent(int correct, int total) {\n",
        "    return (correct * 100.0) / total;\n",
        "}\n"
      ]
    },
    {
      "cell_type": "markdown",
      "id": "ce4a91e8",
      "metadata": {},
      "source": [
        "**FRQ 3. Safe remainder**  \n",
        "Implement `safeMod(int a, int b)` that returns `a % b`, but if `b == 0`, it should return `0` instead of throwing."
      ]
    },
    {
      "cell_type": "code",
      "execution_count": 4,
      "id": "73def34d",
      "metadata": {},
      "outputs": [],
      "source": [
        "public static int safeMod(int a, int b) {\n",
        "    if (b == 0) {\n",
        "        return 0;\n",
        "    }\n",
        "    return a % b;\n",
        "}\n"
      ]
    },
    {
      "cell_type": "markdown",
      "id": "e9b584ee",
      "metadata": {},
      "source": [
        "## Suggested solutions (Java)"
      ]
    },
    {
      "cell_type": "code",
      "execution_count": null,
      "id": "2c7e6cea",
      "metadata": {},
      "outputs": [],
      "source": [
        "// FRQ 1\n",
        "public static double avgInt(int a, int b) {\n",
        "    return ((double)a + b) / 2.0;\n",
        "}\n",
        "\n",
        "// FRQ 2\n",
        "public static double percent(int correct, int total) {\n",
        "    if (total == 0) return 0.0;\n",
        "    return 100.0 * ((double) correct) / total;\n",
        "}\n",
        "\n",
        "// FRQ 3\n",
        "public static int safeMod(int a, int b) {\n",
        "    if (b == 0) return 0;\n",
        "    return a % b;\n",
        "}"
      ]
    },
    {
      "cell_type": "markdown",
      "id": "71832932",
      "metadata": {},
      "source": [
        "# Java Casting MCQ's"
      ]
    },
    {
      "cell_type": "markdown",
      "id": "007b85a9",
      "metadata": {},
      "source": [
        "Here are 5 multiple-choice questions on Java casting:\n",
        "\n",
        "**Question 1:**\n",
        "What is the output of the following code?\n",
        "A) 7.9  \n",
        "B) 8  \n",
        "C) 7  \n",
        "D) 8.0  \n",
        "E) Compile error"
      ]
    },
    {
      "cell_type": "code",
      "execution_count": null,
      "id": "a1d124c1",
      "metadata": {},
      "outputs": [],
      "source": [
        "double x = 7.9;\n",
        "int y = (int) x;\n",
        "System.out.println(y);"
      ]
    },
    {
      "cell_type": "markdown",
      "id": "3a53b66e",
      "metadata": {},
      "source": [
        "**Question 2:**\n",
        "Which of the following statements will compile without error?\n",
        "A) `int c = a + b;`  \n",
        "B) `int c = (int)(a + b);`  \n",
        "C) `int c = a + (int)b;`  \n",
        "D) Both B and C  \n",
        "E) All of the above"
      ]
    },
    {
      "cell_type": "code",
      "execution_count": null,
      "id": "849eae52",
      "metadata": {},
      "outputs": [],
      "source": [
        "int a = 10;\n",
        "double b = 5.5;"
      ]
    },
    {
      "cell_type": "markdown",
      "id": "4d25817a",
      "metadata": {},
      "source": [
        "**Question 3:**\n",
        "What is the result of the following code?\n",
        "A) 4.5  \n",
        "B) 4  \n",
        "C) 5  \n",
        "D) 4.0  \n",
        "E) Compile error"
      ]
    },
    {
      "cell_type": "code",
      "execution_count": null,
      "id": "e4e0d500",
      "metadata": {},
      "outputs": [],
      "source": [
        "int num = 9 / 2;\n",
        "System.out.println(num);"
      ]
    },
    {
      "cell_type": "markdown",
      "id": "f6147e88",
      "metadata": {},
      "source": [
        "**Question 4:**\n",
        "Given the following code, what is printed?\n",
        "A) 15  \n",
        "B) 16  \n",
        "C) 15.5  \n",
        "D) 16.0  \n",
        "E) 15.7"
      ]
    },
    {
      "cell_type": "code",
      "execution_count": null,
      "id": "80ecae51",
      "metadata": {},
      "outputs": [],
      "source": [
        "double d = 15.7;\n",
        "int i = (int)(d + 0.5);\n",
        "System.out.println(i);"
      ]
    },
    {
      "cell_type": "markdown",
      "id": "adf7f09b",
      "metadata": {},
      "source": [
        "**Question 5:**\n",
        "Which statement about casting is TRUE?\n",
        "A) Casting from int to double requires explicit casting  \n",
        "B) Casting from double to int requires explicit casting  \n",
        "C) Casting from int to double may result in loss of data  \n",
        "D) Casting is never necessary in Java  \n",
        "E) Casting from double to int always rounds to the nearest integer"
      ]
    },
    {
      "cell_type": "markdown",
      "id": "8eb979bf",
      "metadata": {},
      "source": [
        "## Homework Submission\n",
        "\n",
        "- MCQ answers (on the google form)\n",
        "- Entire notebook with all code cells EXECUTED and VISIBLE on your GitHub Pages (ex. https://yourgithubusername.github.io/)\n",
        "\n",
        "[Form link](https://forms.gle/aLo8Ley1SUAy8KqP9)"
      ]
    }
  ],
  "metadata": {
    "kernelspec": {
      "display_name": "Java",
      "language": "java",
      "name": "java"
    },
    "language_info": {
      "codemirror_mode": "java",
      "file_extension": ".jshell",
      "mimetype": "text/x-java-source",
      "name": "java",
      "pygments_lexer": "java",
      "version": "17.0.16+0"
    }
  },
  "nbformat": 4,
  "nbformat_minor": 5
}
