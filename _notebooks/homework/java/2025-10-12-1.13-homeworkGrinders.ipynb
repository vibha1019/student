{
 "cells": [
  {
   "cell_type": "raw",
   "id": "354709c5",
   "metadata": {
    "vscode": {
     "languageId": "raw"
    }
   },
   "source": [
    "---\n",
    "title: Object Creation and Storage (Instantiation)\n",
    "comments: true\n",
    "layout: post\n",
    "permalink: /csa/unit_01/1_13/homework/\n",
    "author: Nora, Soni, Avika\n",
    "---"
   ]
  },
  {
   "cell_type": "code",
   "execution_count": 4,
   "id": "4fa4bd60",
   "metadata": {
    "vscode": {
     "languageId": "java"
    }
   },
   "outputs": [
    {
     "name": "stdout",
     "output_type": "stream",
     "text": [
      "Car brand: Tesla, Year: 2024\n",
      "Car brand: Toyota, Year: 2020\n"
     ]
    }
   ],
   "source": [
    "// Homework Hack #1: Object Creation Practice\n",
    "\n",
    "public class ObjectCreation {\n",
    "    public static void main(String[] args) {\n",
    "        // 1. Create two Car objects using 'new'\n",
    "        Car car1 = new Car(\"Tesla\", 2024);\n",
    "        Car car2 = new Car(\"Toyota\", 2020);\n",
    "\n",
    "        // 2. Print each car's info\n",
    "        System.out.println(car1);\n",
    "        System.out.println(car2);\n",
    "    }\n",
    "}\n",
    "\n",
    "class Car {\n",
    "    // 1. Declare variables: brand, year\n",
    "    private String brand;\n",
    "    private int year;\n",
    "\n",
    "    // 2. Create a constructor to set those variables\n",
    "    public Car(String brand, int year) {\n",
    "        this.brand = brand;\n",
    "        this.year = year;\n",
    "    }\n",
    "\n",
    "    // 3. Add a method or toString() to display car info\n",
    "    @Override\n",
    "    public String toString() {\n",
    "        return \"Car brand: \" + brand + \", Year: \" + year;\n",
    "    }\n",
    "}\n",
    "\n",
    "ObjectCreation.main(null); // Call main to execute the code\n"
   ]
  },
  {
   "cell_type": "markdown",
   "id": "5dfeb6ec",
   "metadata": {},
   "source": [
    "## Homework Hack #2 — Heap vs Stack Storage Demo\n",
    "\n",
    "**Goal** - Understand where data is stored in memory — stack vs heap.\n",
    "<br>\n",
    "Instructions:\n",
    "- Create a Book class with one variable: String title.\n",
    "- In main(), create:\n",
    "- A primitive variable (e.g. int pages = 300;)\n",
    "- A Book object (e.g. Book b1 = new Book(\"Java Basics\");)\n",
    "- Copy both into new variables (int pagesCopy = pages;, Book b2 = b1;)\n",
    "<br>\n",
    "Change the original values and print everything — watch what changes."
   ]
  },
  {
   "cell_type": "code",
   "execution_count": 2,
   "id": "87b5929f",
   "metadata": {
    "vscode": {
     "languageId": "java"
    }
   },
   "outputs": [
    {
     "name": "stdout",
     "output_type": "stream",
     "text": [
      "Primitive values:\n",
      "pages = 500\n",
      "pagesCopy = 300\n",
      "\n",
      "Book objects:\n",
      "b1 = Book title: Advanced Java\n",
      "b2 = Book title: Advanced Java\n"
     ]
    }
   ],
   "source": [
    "// Homework Hack #2: Heap vs Stack Storage Demo\n",
    "\n",
    "public class HeapVsStack {\n",
    "    public static void main(String[] args) {\n",
    "        // 1. Create a primitive variable (int pages)\n",
    "        int pages = 300;\n",
    "\n",
    "        // 2. Create another primitive variable that copies it\n",
    "        int pagesCopy = pages;\n",
    "\n",
    "        // 3. Create a Book object (Book b1 = new Book(\"Java Basics\");)\n",
    "        Book b1 = new Book(\"Java Basics\");\n",
    "\n",
    "        // 4. Create another Book reference (Book b2 = b1;)\n",
    "        Book b2 = b1;\n",
    "\n",
    "        // 5. Change the original primitive and the Book title\n",
    "        pages = 500;\n",
    "        b1.title = \"Advanced Java\";\n",
    "\n",
    "        // 6. Print both sets of values to compare behavior\n",
    "        System.out.println(\"Primitive values:\");\n",
    "        System.out.println(\"pages = \" + pages);\n",
    "        System.out.println(\"pagesCopy = \" + pagesCopy);\n",
    "\n",
    "        System.out.println(\"\\nBook objects:\");\n",
    "        System.out.println(\"b1 = \" + b1);\n",
    "        System.out.println(\"b2 = \" + b2);\n",
    "    }\n",
    "}\n",
    "\n",
    "class Book {\n",
    "    // 1. Declare variable: String title\n",
    "    String title;\n",
    "\n",
    "    // 2. Create a constructor to set the title\n",
    "    public Book(String title) {\n",
    "        this.title = title;\n",
    "    }\n",
    "\n",
    "    // 3. Create a toString() to show the title\n",
    "    @Override\n",
    "    public String toString() {\n",
    "        return \"Book title: \" + title;\n",
    "    }\n",
    "}\n",
    "\n",
    "\n",
    "HeapVsStack.main(null);"
   ]
  }
 ],
 "metadata": {
  "kernelspec": {
   "display_name": "Java",
   "language": "java",
   "name": "java"
  },
  "language_info": {
   "codemirror_mode": "java",
   "file_extension": ".jshell",
   "mimetype": "text/x-java-source",
   "name": "Java",
   "pygments_lexer": "java",
   "version": "17.0.16+0"
  }
 },
 "nbformat": 4,
 "nbformat_minor": 5
}
