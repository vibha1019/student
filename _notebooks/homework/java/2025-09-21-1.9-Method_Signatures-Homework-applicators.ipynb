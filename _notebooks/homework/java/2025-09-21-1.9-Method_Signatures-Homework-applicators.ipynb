{
  "cells": [
    {
      "cell_type": "raw",
      "metadata": {
        "vscode": {
          "languageId": "raw"
        }
      },
      "source": [
        "---\n",
        "title: Method Signatures — Homework (1.9)\n",
        "comments: true\n",
        "layout: post\n",
        "permalink: /csa/unit_01/1_9/homework/\n",
        "author: Aashray, Sai, Manas\n",
        "---"
      ]
    },
    {
      "cell_type": "markdown",
      "metadata": {},
      "source": [
        "## AP CSA 1.9 — Method Signatures: Homework\n",
        "\n",
        "Complete all parts. Submit this executed notebook on GitHub Pages and answer MCQs on the Google Form.\n"
      ]
    },
    {
      "cell_type": "markdown",
      "metadata": {},
      "source": [
        "### Popcorn Hack: Write and test max overloads\n",
        "Instructions: Write two overloaded methods named max that each return the larger of two numbers.\n",
        "\n",
        "One should accept two int values.\n",
        "\n",
        "The other should accept two double values.\n",
        "\n",
        "Then, test both versions in the main method.\n",
        "\n"
      ]
    },
    {
      "cell_type": "code",
      "execution_count": 1,
      "metadata": {
        "vscode": {
          "languageId": "java"
        }
      },
      "outputs": [
        {
          "name": "stdout",
          "output_type": "stream",
          "text": [
            "9\n",
            "-2\n",
            "3.5\n",
            "2.0\n"
          ]
        }
      ],
      "source": [
        "public class PopcornMax {\n",
        "    // int version of max\n",
        "    public static int max(int a, int b) {\n",
        "        if (a > b) {\n",
        "            return a;\n",
        "        } else {\n",
        "            return b;\n",
        "        }\n",
        "    }\n",
        "\n",
        "    // double version of max\n",
        "    public static double max(double a, double b) {\n",
        "        if (a > b) {\n",
        "            return a;\n",
        "        } else {\n",
        "            return b;\n",
        "        }\n",
        "    }\n",
        "\n",
        "    public static void main(String[] args) {\n",
        "        System.out.println(max(3, 9));      // expected: 9\n",
        "        System.out.println(max(-2, -7));    // expected: -2\n",
        "        System.out.println(max(3.5, 2.9));  // expected: 3.5\n",
        "        System.out.println(max(2, 2.0));    // should call double version → 2.0\n",
        "    }\n",
        "}\n",
        "\n",
        "PopcornMax.main(null);"
      ]
    },
    {
      "cell_type": "markdown",
      "metadata": {},
      "source": [
        "### Popcorn Hack: Overload print for int and String\n",
        "Instructions:Implement two overloaded print methods — one that accepts an int and prints int:<n> and another that accepts String and prints str:<s>. Test with mixed types"
      ]
    },
    {
      "cell_type": "code",
      "execution_count": 2,
      "metadata": {
        "vscode": {
          "languageId": "java"
        }
      },
      "outputs": [
        {
          "name": "stdout",
          "output_type": "stream",
          "text": [
            "int:42\n",
            "str:hello\n",
            "str:A!\n"
          ]
        }
      ],
      "source": [
        "public class PopcornPrint {\n",
        "    // print method for int\n",
        "    public static void print(int n) {\n",
        "        System.out.println(\"int:\" + n);\n",
        "    }\n",
        "\n",
        "    // print method for String\n",
        "    public static void print(String s) {\n",
        "        System.out.println(\"str:\" + s);\n",
        "    }\n",
        "\n",
        "    public static void main(String[] args) {\n",
        "        print(42);          // expected: int:42\n",
        "        print(\"hello\");     // expected: str:hello\n",
        "        print('A' + \"!\");   // char + String → String → expected: str:A!\n",
        "    }\n",
        "}\n",
        "PopcornPrint.main(null);"
      ]
    },
    {
      "cell_type": "markdown",
      "metadata": {},
      "source": [
        "### MCQs\n",
        "1) Which pair is a valid overload?\n",
        "- A) `int f(int a)` and `int f(int x)`\n",
        "- B) `int f(int a)` and `double f(int a)`\n",
        "- C) `int f(int a)` and `double f(double a)`\n",
        "- D) `int f(int a, int b)` and `int f(int a, int b)`\n",
        "\n",
        "2) Which is the AP CSA notion of a method signature?\n",
        "- A) `public static int max(int a, int b)`\n",
        "- B) `max(int, int)`\n",
        "- C) `max(int a, int b) throws Exception`\n",
        "- D) `max(int, double)`\n",
        "\n",
        "3) With the overloads `void p(int x)` and `void p(double x)`, what prints?\n",
        "```java\n",
        "p(5);\n",
        "p(5.0);\n",
        "```\n",
        "- A) `int`, `double`\n",
        "- B) `double`, `double`\n",
        "- C) `int`, `int`\n",
        "- D) Compile error\n",
        "\n",
        "4) Which call is ambiguous with only these two methods?\n",
        "```java\n",
        "void h(long x) {}\n",
        "void h(float x) {}\n",
        "```\n",
        "- A) `h(5)`\n",
        "- B) `h(5.0)`\n",
        "- C) `h(5f)`\n",
        "- D) None are ambiguous\n",
        "\n",
        "5) Which statement is TRUE?\n",
        "- A) Parameter names affect the method signature.\n",
        "- B) Return type affects the method signature.\n",
        "- C) Access modifiers affect the method signature.\n",
        "- D) Overloading requires different parameter lists.\n"
      ]
    },
    {
      "cell_type": "markdown",
      "metadata": {},
      "source": [
        "### Short answer\n",
        "- Explain why `int sum(int a, int b)` and `double sum(int a, int b)` cannot both exist.\n",
        "- In one sentence, distinguish parameters vs arguments.\n"
      ]
    },
    {
      "cell_type": "markdown",
      "metadata": {},
      "source": [
        "### Coding Tasks (write Java in code blocks; pseudo-Java acceptable)\n",
        "1) Write three overloads of `abs`: `int abs(int x)`, `double abs(double x)`, and `long abs(long x)`.\n",
        "2) Implement two overloads of `concat`:\n",
        "   - `String concat(String a, String b)` returns concatenation.\n",
        "   - `String concat(String a, int n)` returns `a` repeated `n` times.\n",
        "3) Determine output:\n",
        "```java\n",
        "static void show(int x) { System.out.println(\"int\"); }\n",
        "static void show(double x) { System.out.println(\"double\"); }\n",
        "static void show(long x) { System.out.println(\"long\"); }\n",
        "\n",
        "show(7);\n",
        "show(7L);\n",
        "show(7.0);\n",
        "```\n",
        "Write the expected output and a one-line explanation for each.\n"
      ]
    },
    {
      "cell_type": "code",
      "execution_count": 9,
      "metadata": {
        "vscode": {
          "languageId": "java"
        }
      },
      "outputs": [
        {
          "name": "stdout",
          "output_type": "stream",
          "text": [
            "5\n",
            "3.14\n",
            "100000\n"
          ]
        }
      ],
      "source": [
        "public class OverloadAbs {\n",
        "    public static int abs(int x) {\n",
        "        return x < 0 ? -x : x;\n",
        "    }\n",
        "\n",
        "    public static double abs(double x) {\n",
        "        return x < 0 ? -x : x;\n",
        "    }\n",
        "\n",
        "    public static long abs(long x) {\n",
        "        return x < 0 ? -x : x;\n",
        "    }\n",
        "}\n",
        "\n",
        "OverloadAbs abs = new OverloadAbs();\n",
        "System.out.println(abs.abs(-5));        // expected: 5\n",
        "System.out.println(abs.abs(-3.14));     // expected: 3.14\n",
        "System.out.println(abs.abs(-100000L));  // expected: 100000\n"
      ]
    },
    {
      "cell_type": "markdown",
      "metadata": {},
      "source": [
        "### FRQ-style\n",
        "- FRQ 1. `indexOf(char target, String s)`: return the index of first `target` in `s` or `-1` if not found. Overload with `indexOf(String target, String s)` for first substring occurrence (without using library indexOf). State assumptions and constraints.\n",
        "- FRQ 2. Overload `clamp`:\n",
        "  - `int clamp(int value, int low, int high)` returns `value` confined to `[low, high]`.\n",
        "  - `double clamp(double value, double low, double high)` similarly for doubles.\n",
        "  Handle the case `low > high` by swapping.\n"
      ]
    },
    {
      "cell_type": "code",
      "execution_count": 11,
      "metadata": {
        "vscode": {
          "languageId": "java"
        }
      },
      "outputs": [
        {
          "name": "stdout",
          "output_type": "stream",
          "text": [
            "1\n",
            "-1\n",
            "1\n",
            "0\n",
            "2\n"
          ]
        }
      ],
      "source": [
        "public class FRQ1_IndexOf {\n",
        "    // Finds first occurrence of a single character\n",
        "    public static int indexOf(char target, String s) {\n",
        "        for (int i = 0; i < s.length(); i++) {\n",
        "            if (s.charAt(i) == target) {\n",
        "                return i; // found target char\n",
        "            }\n",
        "        }\n",
        "        return -1; // not found\n",
        "    }\n",
        "\n",
        "    // Finds first occurrence of a substring (no use of library indexOf)\n",
        "    public static int indexOf(String target, String s) {\n",
        "        if (target.length() == 0) return 0; // empty substring starts at 0\n",
        "        if (target.length() > s.length()) return -1;\n",
        "\n",
        "        for (int i = 0; i <= s.length() - target.length(); i++) {\n",
        "            boolean match = true;\n",
        "            for (int j = 0; j < target.length(); j++) {\n",
        "                if (s.charAt(i + j) != target.charAt(j)) {\n",
        "                    match = false;\n",
        "                    break;\n",
        "                }\n",
        "            }\n",
        "            if (match) return i; // found substring\n",
        "        }\n",
        "        return -1; // not found\n",
        "    }\n",
        "\n",
        "    public static void main(String[] args) {\n",
        "        System.out.println(indexOf('a', \"banana\"));   // expected: 1\n",
        "        System.out.println(indexOf('z', \"banana\"));   // expected: -1\n",
        "        System.out.println(indexOf(\"ana\", \"banana\")); // expected: 1\n",
        "        System.out.println(indexOf(\"ba\", \"banana\"));  // expected: 0\n",
        "        System.out.println(indexOf(\"nan\", \"banana\")); // expected: 2\n",
        "    }\n",
        "}\n",
        "\n",
        "FRQ1_IndexOf.main(null);"
      ]
    },
    {
      "cell_type": "code",
      "execution_count": 12,
      "metadata": {
        "vscode": {
          "languageId": "java"
        }
      },
      "outputs": [
        {
          "name": "stdout",
          "output_type": "stream",
          "text": [
            "5\n",
            "0\n",
            "8\n",
            "5\n",
            "5.0\n"
          ]
        }
      ],
      "source": [
        "public class FRQ2_Clamp {\n",
        "    // int version\n",
        "    public static int clamp(int value, int low, int high) {\n",
        "        if (low > high) { // swap if out of order\n",
        "            int temp = low;\n",
        "            low = high;\n",
        "            high = temp;\n",
        "        }\n",
        "        if (value < low) return low;\n",
        "        if (value > high) return high;\n",
        "        return value;\n",
        "    }\n",
        "\n",
        "    // double version\n",
        "    public static double clamp(double value, double low, double high) {\n",
        "        if (low > high) { // swap if out of order\n",
        "            double temp = low;\n",
        "            low = high;\n",
        "            high = temp;\n",
        "        }\n",
        "        if (value < low) return low;\n",
        "        if (value > high) return high;\n",
        "        return value;\n",
        "    }\n",
        "\n",
        "    public static void main(String[] args) {\n",
        "        System.out.println(clamp(5, 1, 10));     // expected: 5\n",
        "        System.out.println(clamp(-2, 0, 8));     // expected: 0\n",
        "        System.out.println(clamp(12, 0, 8));     // expected: 8\n",
        "        System.out.println(clamp(5, 10, 1));     // swapped → [1,10], expected: 5\n",
        "        System.out.println(clamp(7.5, 0.0, 5.0)); // expected: 5.0\n",
        "    }\n",
        "}\n",
        "FRQ2_Clamp.main(null);"
      ]
    },
    {
      "cell_type": "markdown",
      "metadata": {},
      "source": [
        "### Submission checklist\n",
        "- MCQs completed on the Google Form.\n",
        "- This notebook executes top-to-bottom with outputs visible.\n",
        "- Answers are clear and concise.\n"
      ]
    },
    {
      "cell_type": "markdown",
      "metadata": {},
      "source": []
    }
  ],
  "metadata": {
    "kernelspec": {
      "display_name": "Java",
      "language": "java",
      "name": "java"
    },
    "language_info": {
      "codemirror_mode": "java",
      "file_extension": ".jshell",
      "mimetype": "text/x-java-source",
      "name": "Java",
      "pygments_lexer": "java",
      "version": "17.0.16+0"
    }
  },
  "nbformat": 4,
  "nbformat_minor": 2
}
